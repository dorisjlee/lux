{
 "cells": [
  {
   "cell_type": "code",
   "execution_count": null,
   "metadata": {},
   "outputs": [],
   "source": [
    "import lux\n",
    "import pandas as pd"
   ]
  },
  {
   "cell_type": "code",
   "execution_count": null,
   "metadata": {},
   "outputs": [],
   "source": [
    "df = pd.read_csv(\"https://raw.githubusercontent.com/lux-org/lux-datasets/master/data/college.csv\")"
   ]
  },
  {
   "cell_type": "code",
   "execution_count": null,
   "metadata": {},
   "outputs": [],
   "source": [
    "df"
   ]
  },
  {
   "cell_type": "code",
   "execution_count": null,
   "metadata": {},
   "outputs": [],
   "source": [
    "import inspect"
   ]
  },
  {
   "cell_type": "code",
   "execution_count": null,
   "metadata": {},
   "outputs": [],
   "source": [
    "def func(a):\n",
    "    if a == 1 : \n",
    "        x = 1 + 2\n",
    "        return x\n",
    "    elif a >1: \n",
    "        y = 3+ 4\n",
    "        return y"
   ]
  },
  {
   "cell_type": "code",
   "execution_count": null,
   "metadata": {},
   "outputs": [],
   "source": [
    "func(4)"
   ]
  },
  {
   "cell_type": "code",
   "execution_count": null,
   "metadata": {},
   "outputs": [],
   "source": [
    "code = inspect.getsource(func)\n",
    "print (code)"
   ]
  },
  {
   "cell_type": "markdown",
   "metadata": {},
   "source": [
    "## Trying out tracing"
   ]
  },
  {
   "cell_type": "code",
   "execution_count": null,
   "metadata": {},
   "outputs": [],
   "source": [
    "df = pd.read_csv(\"https://raw.githubusercontent.com/lux-org/lux-datasets/master/data/car.csv\")\n",
    "df[\"Year\"] = pd.to_datetime(df[\"Year\"], format='%Y')"
   ]
  },
  {
   "cell_type": "code",
   "execution_count": null,
   "metadata": {},
   "outputs": [],
   "source": [
    "import sys"
   ]
  },
  {
   "cell_type": "code",
   "execution_count": null,
   "metadata": {},
   "outputs": [],
   "source": [
    "# import pickle as pkl\n",
    "# def profile_func( frame, event, arg):\n",
    "#     #Profile functions should have three arguments: frame, event, and arg. \n",
    "#     #frame is the current stack frame. \n",
    "#     #event is a string: 'call', 'return', 'c_call', 'c_return', or 'c_exception'.\n",
    "#     #arg depends on the event type.\n",
    "#     try: \n",
    "#         if event == 'line' :\n",
    "#             fcode = frame.f_code             \n",
    "#             line_no = frame.f_lineno\n",
    "#             func_name = fcode.co_name\n",
    "#             #includeMod = ['lux/vis', 'lux/action', 'lux/vislib', 'lux/executor', 'lux/interestingness']\n",
    "#             includeMod = ['lux/executor']\n",
    "#             if any(x in frame.f_code.co_filename for x in includeMod):\n",
    "#                 codelines = open(frame.f_code.co_filename).readlines()\n",
    "#                 if (func_name!=\"<lambda>\"): #ignore one-liner lambda functions (repeated line events)\n",
    "#                     ignore_construct = ['if','elif','for','return'] # prune out these control flow programming constructs\n",
    "#                     code = codelines[line_no-1]\n",
    "#                     if not any(construct in code for construct in ignore_construct):\n",
    "#                         print (f\"{frame.f_code.co_filename}--{func_name}--{line_no}\")  \n",
    "#                         print (codelines[line_no-1])\n",
    "# #                 print (fcode)\n",
    "                \n",
    "#                 #print (inspect.getsourcelines(fcode))\n",
    "# #                 pkl.dump(frame.f_code,open(\"frame.pkl\",'wb'))\n",
    "#     except:\n",
    "#         # pass  # just swallow errors to avoid interference with traced processes\n",
    "#         raise  # for debugging\n",
    "#     return profile_func"
   ]
  },
  {
   "cell_type": "code",
   "execution_count": null,
   "metadata": {},
   "outputs": [],
   "source": [
    "import pickle as pkl\n",
    "relevant_lines=[]\n",
    "def profile_func( frame, event, arg):\n",
    "    #Profile functions should have three arguments: frame, event, and arg. \n",
    "    #frame is the current stack frame. \n",
    "    #event is a string: 'call', 'return', 'c_call', 'c_return', or 'c_exception'.\n",
    "    #arg depends on the event type.\n",
    "    try: \n",
    "        if event == 'line' :\n",
    "            fcode = frame.f_code             \n",
    "            line_no = frame.f_lineno\n",
    "            func_name = fcode.co_name\n",
    "            #includeMod = ['lux/vis', 'lux/action', 'lux/vislib', 'lux/executor', 'lux/interestingness']\n",
    "            includeMod = ['lux/vislib','lux/executor']\n",
    "            if any(x in frame.f_code.co_filename for x in includeMod):\n",
    "                if (func_name!=\"<lambda>\"): #ignore one-liner lambda functions (repeated line events)\n",
    "                    relevant_lines.append([frame.f_code.co_filename,func_name,line_no])\n",
    "#                     print (f\"{frame.f_code.co_filename}--{func_name}--{line_no}\")  \n",
    "#                 print (fcode)\n",
    "                \n",
    "                #print (inspect.getsourcelines(fcode))\n",
    "#                 pkl.dump(frame.f_code,open(\"frame.pkl\",'wb'))\n",
    "    except:\n",
    "        # pass  # just swallow errors to avoid interference with traced processes\n",
    "        raise  # for debugging\n",
    "    return profile_func"
   ]
  },
  {
   "cell_type": "code",
   "execution_count": null,
   "metadata": {},
   "outputs": [],
   "source": [
    "# from black import format_str, FileMode\n",
    "# res = format_str(selected, mode=FileMode())\n",
    "# print(res)"
   ]
  },
  {
   "cell_type": "code",
   "execution_count": null,
   "metadata": {},
   "outputs": [],
   "source": [
    "# import glob\n",
    "# glob.glob(\"lux/*\")"
   ]
  },
  {
   "cell_type": "code",
   "execution_count": null,
   "metadata": {},
   "outputs": [],
   "source": [
    "def start_tracing():\n",
    "    print (\"-----------start_tracing-----------\")\n",
    "    # Implement python source debugger: https://docs.python.org/3/library/sys.html#sys.settrace\n",
    "    # setprofile faster than settrace (only go through I/O)\n",
    "    sys.settrace(profile_func) \n",
    "def stop_tracing():\n",
    "    print (\"-----------stop_tracing-----------\")\n",
    "    sys.settrace(None) "
   ]
  },
  {
   "cell_type": "code",
   "execution_count": null,
   "metadata": {},
   "outputs": [],
   "source": [
    "df"
   ]
  },
  {
   "cell_type": "code",
   "execution_count": null,
   "metadata": {},
   "outputs": [],
   "source": [
    "start_tracing()"
   ]
  },
  {
   "cell_type": "code",
   "execution_count": null,
   "metadata": {
    "scrolled": false
   },
   "outputs": [],
   "source": [
    "%time \n",
    "from lux.vis.Vis import Vis\n",
    "vis  = Vis([\"Horsepower\"],df)\n",
    "vis"
   ]
  },
  {
   "cell_type": "code",
   "execution_count": null,
   "metadata": {
    "scrolled": true
   },
   "outputs": [],
   "source": [
    "stop_tracing()"
   ]
  },
  {
   "cell_type": "code",
   "execution_count": null,
   "metadata": {},
   "outputs": [],
   "source": [
    "%time\n",
    "from lux.vis.Vis import Vis\n",
    "vis  = Vis([\"Horsepower\"],df)\n",
    "vis"
   ]
  },
  {
   "cell_type": "code",
   "execution_count": null,
   "metadata": {},
   "outputs": [],
   "source": [
    "selected = \"\"\n",
    "for line in relevant_lines:\n",
    "    filename = line[0]\n",
    "    funcname = line[1]\n",
    "    line_no = line[2]-1\n",
    "    if \"Executor.py\" not in filename or (\"Executor.py\" in filename and \"execute\" in funcname):\n",
    "        codelines = open(filename).readlines()# TODO: do sharing of file content here\n",
    "        if (funcname not in ['__init__']):\n",
    "            code = codelines[line_no]\n",
    "            ignore_construct = ['if','elif','for','return'] # prune out these control flow programming constructs                    \n",
    "            ignore_lux_keyword = ['self.code','self.name','__init__','PandasExecutor.',\"'''\",'self.output_type']# Lux-specific keywords to ignore\n",
    "            ignore = ignore_construct+ignore_lux_keyword\n",
    "            if not any(construct in code for construct in ignore):\n",
    "                print (f\"{filename}--{funcname}--{line_no}\")  \n",
    "                print (codelines[line_no].lstrip())\n",
    "                selected+=codelines[line_no].lstrip()"
   ]
  },
  {
   "cell_type": "code",
   "execution_count": null,
   "metadata": {},
   "outputs": [],
   "source": [
    "# We should identify root calls like this 'PandasExecutor.execute_binning(vis)' and extract their docstring as documentation to the code"
   ]
  },
  {
   "cell_type": "code",
   "execution_count": null,
   "metadata": {},
   "outputs": [],
   "source": [
    "selected = selected.replace(\"vis._vis_data\",\"visdf\").replace('vis.data','visdf').replace(\"self.data\",\"visdf\").replace('self.chart',\"chart\").replace('self.vis','vis')"
   ]
  },
  {
   "cell_type": "code",
   "execution_count": null,
   "metadata": {},
   "outputs": [],
   "source": [
    "print (selected)"
   ]
  },
  {
   "cell_type": "code",
   "execution_count": null,
   "metadata": {},
   "outputs": [],
   "source": [
    "# Important root calls\n",
    "# ['execute_*',]"
   ]
  },
  {
   "cell_type": "code",
   "execution_count": null,
   "metadata": {},
   "outputs": [],
   "source": [
    "print (selected)"
   ]
  },
  {
   "cell_type": "code",
   "execution_count": null,
   "metadata": {},
   "outputs": [],
   "source": [
    "def plot_vis(vis,df):\n",
    "    visdf = df\n",
    "    filters = utils.get_filter_specs(vis._inferred_intent)\n",
    "    attributes = utils.get_unique_attrnames(vis._inferred_intent)\n",
    "    visdf = visdf[attributes]\n",
    "    import numpy as np\n",
    "    bin_attribute = list(filter(lambda x: x.bin_size!=0,vis._inferred_intent))[0]\n",
    "    series = visdf[bin_attribute.attribute].dropna() \n",
    "    counts,bin_edges = np.histogram(series,bins=bin_attribute.bin_size)\n",
    "    bin_center = np.mean(np.vstack([bin_edges[0:-1],bin_edges[1:]]), axis=0)\n",
    "    visdf = pd.DataFrame(np.array([bin_center,counts]).T,columns=[bin_attribute.attribute, \"Number of Records\"])\n",
    "    # self.output_type = output_type\n",
    "    # chart = Histogram(vis)\n",
    "    # vis = vis\n",
    "    # visdf = vis.data\n",
    "    # self.tooltip = True\n",
    "    # chart = self.initialize_chart()\n",
    "    # self.tooltip = False\n",
    "    import altair as alt\n",
    "    measure = vis.get_attr_by_data_model(\"measure\",exclude_record=True)[0]\n",
    "    msr_attr = vis.get_attr_by_channel(measure.channel)[0]\n",
    "    x_min = vis.min_max[msr_attr.attribute][0]\n",
    "    x_max = vis.min_max[msr_attr.attribute][1]\n",
    "    x_range = abs(max(vis.data[msr_attr.attribute]) - \n",
    "    min(vis.data[msr_attr.attribute]))\n",
    "    plot_range = abs(x_max - x_min)\n",
    "    markbar = x_range / plot_range * 12\n",
    "    chart = alt.Chart(visdf).mark_bar(size=markbar).encode(\n",
    "    alt.X(msr_attr.attribute, title=f'{msr_attr.attribute} (binned)',bin=alt.Bin(binned=True), type=msr_attr.data_type, axis=alt.Axis(labelOverlap=True), scale=alt.Scale(domain=(x_min, x_max))),\n",
    "    alt.Y(\"Number of Records\", type=\"quantitative\")\n",
    "    )\n",
    "    # self.encode_color()\n",
    "    # color_attr = vis.get_attr_by_channel(\"color\")\n",
    "    # self.add_title()\n",
    "    # chart_title = vis.title\n",
    "    # self.apply_default_config()\n",
    "    chart = chart.configure_title(fontWeight=500,fontSize=13,font=\"Helvetica Neue\")\n",
    "    chart = chart.configure_axis(titleFontWeight=500,titleFontSize=11,titleFont=\"Helvetica Neue\",\n",
    "    labelFontWeight=400,labelFontSize=9,labelFont=\"Helvetica Neue\",labelColor=\"#505050\")\n",
    "    chart = chart.configure_legend(titleFontWeight=500,titleFontSize=10,titleFont=\"Helvetica Neue\",\n",
    "    labelFontWeight=400,labelFontSize=9,labelFont=\"Helvetica Neue\")\n",
    "    chart = chart.properties(width=160,height=150)\n",
    "    # chart_dict = chart.chart.to_dict()\n",
    "    return chart"
   ]
  },
  {
   "cell_type": "code",
   "execution_count": null,
   "metadata": {},
   "outputs": [],
   "source": [
    "plot_vis(vis,df)"
   ]
  },
  {
   "cell_type": "code",
   "execution_count": null,
   "metadata": {},
   "outputs": [],
   "source": [
    "from lux.utils import utils"
   ]
  },
  {
   "cell_type": "code",
   "execution_count": null,
   "metadata": {},
   "outputs": [],
   "source": [
    "filters = utils.get_filter_specs(vis._inferred_intent)\n",
    "attributes = utils.get_unique_attrnames(vis._inferred_intent)"
   ]
  },
  {
   "cell_type": "code",
   "execution_count": null,
   "metadata": {},
   "outputs": [],
   "source": [
    "# code = pkl.load(open(\"frame.pkl\",'rb'))"
   ]
  },
  {
   "cell_type": "code",
   "execution_count": null,
   "metadata": {},
   "outputs": [],
   "source": [
    "# print(inspect.getsource(code))"
   ]
  },
  {
   "cell_type": "code",
   "execution_count": null,
   "metadata": {},
   "outputs": [],
   "source": [
    "# print(vis.to_Altair())"
   ]
  },
  {
   "cell_type": "markdown",
   "metadata": {},
   "source": [
    "### Mock Example"
   ]
  },
  {
   "cell_type": "code",
   "execution_count": null,
   "metadata": {},
   "outputs": [],
   "source": [
    "def plot_vis(vis,df):\n",
    "    # Processing Data with Altair\n",
    "    visdf = df\n",
    "    filters = utils.get_filter_specs(vis._inferred_intent)\n",
    "    attributes = utils.get_unique_attrnames(vis._inferred_intent)\n",
    "    visdf = visdf[attributes]\n",
    "    import numpy as np\n",
    "    bin_attribute = list(filter(lambda x: x.bin_size!=0,vis._inferred_intent))[0]\n",
    "    series = visdf[bin_attribute.attribute].dropna() \n",
    "    counts,bin_edges = np.histogram(series,bins=bin_attribute.bin_size)\n",
    "    bin_center = np.mean(np.vstack([bin_edges[0:-1],bin_edges[1:]]), axis=0)\n",
    "    visdf = pd.DataFrame(np.array([bin_center,counts]).T,columns=[bin_attribute.attribute, \"Number of Records\"])\n",
    "\n",
    "    # Plotting Histogram with Altair\n",
    "    import altair as alt\n",
    "    measure = vis.get_attr_by_data_model(\"measure\",exclude_record=True)[0]\n",
    "    msr_attr = vis.get_attr_by_channel(measure.channel)[0]\n",
    "    x_min = vis.min_max[msr_attr.attribute][0]\n",
    "    x_max = vis.min_max[msr_attr.attribute][1]\n",
    "    x_range = abs(max(vis.data[msr_attr.attribute]) - \n",
    "    min(vis.data[msr_attr.attribute]))\n",
    "    plot_range = abs(x_max - x_min)\n",
    "    markbar = x_range / plot_range * 12\n",
    "    chart = alt.Chart(visdf).mark_bar(size=markbar).encode(\n",
    "    alt.X(msr_attr.attribute, title=f'{msr_attr.attribute} (binned)',bin=alt.Bin(binned=True), type=msr_attr.data_type, axis=alt.Axis(labelOverlap=True), scale=alt.Scale(domain=(x_min, x_max))),\n",
    "    alt.Y(\"Number of Records\", type=\"quantitative\")\n",
    "    )\n",
    "    chart = chart.configure_title(fontWeight=500,fontSize=13,font=\"Helvetica Neue\")\n",
    "    chart = chart.configure_axis(titleFontWeight=500,titleFontSize=11,titleFont=\"Helvetica Neue\",\n",
    "    labelFontWeight=400,labelFontSize=9,labelFont=\"Helvetica Neue\",labelColor=\"#505050\")\n",
    "    chart = chart.configure_legend(titleFontWeight=500,titleFontSize=10,titleFont=\"Helvetica Neue\",\n",
    "    labelFontWeight=400,labelFontSize=9,labelFont=\"Helvetica Neue\")\n",
    "    chart = chart.properties(width=160,height=150)\n",
    "    return chart"
   ]
  },
  {
   "cell_type": "code",
   "execution_count": null,
   "metadata": {},
   "outputs": [],
   "source": [
    "from lux.utils import utils\n",
    "filters = utils.get_filter_specs(vis._inferred_intent)\n",
    "attributes = utils.get_unique_attrnames(vis._inferred_intent)\n",
    "bin_attribute = list(filter(lambda x: x.bin_size!=0,vis._inferred_intent))[0]"
   ]
  },
  {
   "cell_type": "code",
   "execution_count": null,
   "metadata": {},
   "outputs": [],
   "source": [
    "bin_attribute"
   ]
  },
  {
   "cell_type": "code",
   "execution_count": null,
   "metadata": {},
   "outputs": [],
   "source": [
    "#Evaluated expressions"
   ]
  },
  {
   "cell_type": "code",
   "execution_count": null,
   "metadata": {},
   "outputs": [],
   "source": [
    "# Processing Data with Altair\n",
    "visdf = df[['Horsepower']]\n",
    "import numpy as np\n",
    "series = visdf['Horsepower'].dropna() \n",
    "counts,bin_edges = np.histogram(series,bins=10)\n",
    "bin_center = np.mean(np.vstack([bin_edges[0:-1],bin_edges[1:]]), axis=0)\n",
    "visdf = pd.DataFrame(np.array([bin_center,counts]).T,columns=['Horsepower', \"Number of Records\"])\n",
    "\n",
    "# Plotting Histogram with Altair\n",
    "import altair as alt\n",
    "measure = vis.get_attr_by_data_model(\"measure\",exclude_record=True)[0]\n",
    "msr_attr = vis.get_attr_by_channel(measure.channel)[0]\n",
    "x_min = vis.min_max['Horsepower'][0]\n",
    "x_max = vis.min_max['Horsepower'][1]\n",
    "x_range = abs(max(vis.data['Horsepower']) - \n",
    "min(vis.data['Horsepower']))\n",
    "plot_range = abs(x_max - x_min)\n",
    "markbar = x_range / plot_range * 12\n",
    "chart = alt.Chart(visdf).mark_bar(size=markbar).encode(\n",
    "alt.X('Horsepower', title='Horsepower (binned)',bin=alt.Bin(binned=True), type=msr_attr.data_type, axis=alt.Axis(labelOverlap=True), scale=alt.Scale(domain=(x_min, x_max))),\n",
    "alt.Y(\"Number of Records\", type=\"quantitative\")\n",
    ")\n",
    "chart = chart.configure_title(fontWeight=500,fontSize=13,font=\"Helvetica Neue\")\n",
    "chart = chart.configure_axis(titleFontWeight=500,titleFontSize=11,titleFont=\"Helvetica Neue\",\n",
    "labelFontWeight=400,labelFontSize=9,labelFont=\"Helvetica Neue\",labelColor=\"#505050\")\n",
    "chart = chart.configure_legend(titleFontWeight=500,titleFontSize=10,titleFont=\"Helvetica Neue\",\n",
    "labelFontWeight=400,labelFontSize=9,labelFont=\"Helvetica Neue\")\n",
    "chart = chart.properties(width=160,height=150)"
   ]
  },
  {
   "cell_type": "code",
   "execution_count": null,
   "metadata": {},
   "outputs": [],
   "source": []
  }
 ],
 "metadata": {
  "kernelspec": {
   "display_name": "Python 3",
   "language": "python",
   "name": "python3"
  },
  "language_info": {
   "codemirror_mode": {
    "name": "ipython",
    "version": 3
   },
   "file_extension": ".py",
   "mimetype": "text/x-python",
   "name": "python",
   "nbconvert_exporter": "python",
   "pygments_lexer": "ipython3",
   "version": "3.7.7"
  }
 },
 "nbformat": 4,
 "nbformat_minor": 4
}
