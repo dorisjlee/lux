{
 "cells": [
  {
   "cell_type": "markdown",
   "metadata": {},
   "source": [
    "## Tracing Toy example -- a simple function "
   ]
  },
  {
   "cell_type": "code",
   "execution_count": 6,
   "metadata": {},
   "outputs": [],
   "source": [
    "import inspect"
   ]
  },
  {
   "cell_type": "code",
   "execution_count": 36,
   "metadata": {},
   "outputs": [],
   "source": [
    "def myfunc(a):\n",
    "    if a == 1 : \n",
    "        x = 1 + 2\n",
    "        return x\n",
    "    elif a >1: \n",
    "        y = 3+ 4\n",
    "        return y"
   ]
  },
  {
   "cell_type": "code",
   "execution_count": 37,
   "metadata": {},
   "outputs": [
    {
     "data": {
      "text/plain": [
       "7"
      ]
     },
     "execution_count": 37,
     "metadata": {},
     "output_type": "execute_result"
    }
   ],
   "source": [
    "myfunc(4)"
   ]
  },
  {
   "cell_type": "code",
   "execution_count": 72,
   "metadata": {},
   "outputs": [],
   "source": [
    "import pickle as pkl\n",
    "relevant_lines=[]\n",
    "def profile_func( frame, event, arg):\n",
    "    #Profile functions should have three arguments: frame, event, and arg. \n",
    "    #frame is the current stack frame. \n",
    "    #event is a string: 'call', 'return', 'c_call', 'c_return', or 'c_exception'.\n",
    "    #arg depends on the event type.\n",
    "\n",
    "    if event == 'line' :\n",
    "        fcode = frame.f_code             \n",
    "        line_no = frame.f_lineno\n",
    "        func_name = fcode.co_name\n",
    "        if (func_name==\"myfunc\"):\n",
    "            print (f\"{frame.f_code.co_filename}--{func_name}--{line_no}\")  \n",
    "#             print (fcode)\n",
    "#             codelines = open(frame.f_code.co_filename).readlines()\n",
    "#             code = codelines[line_no-1]\n",
    "#             if not any(construct in code for construct in ignore_construct):\n",
    "#                 print (f\"{frame.f_code.co_filename}--{func_name}--{line_no}\")  \n",
    "#                 print (codelines[line_no-1])\n",
    "\n",
    "    return profile_func"
   ]
  },
  {
   "cell_type": "code",
   "execution_count": 73,
   "metadata": {},
   "outputs": [],
   "source": [
    "import sys"
   ]
  },
  {
   "cell_type": "code",
   "execution_count": 74,
   "metadata": {},
   "outputs": [],
   "source": [
    "def start_tracing():\n",
    "    print (\"-----------start_tracing-----------\")\n",
    "    # Implement python source debugger: https://docs.python.org/3/library/sys.html#sys.settrace\n",
    "    # setprofile faster than settrace (only go through I/O)\n",
    "    sys.settrace(profile_func) \n",
    "def stop_tracing():\n",
    "    print (\"-----------stop_tracing-----------\")\n",
    "    sys.settrace(None) "
   ]
  },
  {
   "cell_type": "code",
   "execution_count": 75,
   "metadata": {},
   "outputs": [
    {
     "name": "stdout",
     "output_type": "stream",
     "text": [
      "-----------start_tracing-----------\n"
     ]
    }
   ],
   "source": [
    "start_tracing()"
   ]
  },
  {
   "cell_type": "code",
   "execution_count": 76,
   "metadata": {},
   "outputs": [
    {
     "name": "stdout",
     "output_type": "stream",
     "text": [
      "<ipython-input-36-d8c4f383f18c>--myfunc--2\n",
      "<ipython-input-36-d8c4f383f18c>--myfunc--5\n",
      "<ipython-input-36-d8c4f383f18c>--myfunc--6\n",
      "<ipython-input-36-d8c4f383f18c>--myfunc--7\n"
     ]
    },
    {
     "data": {
      "text/plain": [
       "7"
      ]
     },
     "execution_count": 76,
     "metadata": {},
     "output_type": "execute_result"
    }
   ],
   "source": [
    "myfunc(4)"
   ]
  },
  {
   "cell_type": "code",
   "execution_count": 78,
   "metadata": {},
   "outputs": [
    {
     "name": "stdout",
     "output_type": "stream",
     "text": [
      "-----------stop_tracing-----------\n"
     ]
    }
   ],
   "source": [
    "stop_tracing()"
   ]
  },
  {
   "cell_type": "code",
   "execution_count": 80,
   "metadata": {},
   "outputs": [
    {
     "name": "stdout",
     "output_type": "stream",
     "text": [
      "def func(a):\n",
      "    if a == 1 : \n",
      "        x = 1 + 2\n",
      "        return x\n",
      "    elif a >1: \n",
      "        y = 3+ 4\n",
      "        return y\n",
      "\n"
     ]
    }
   ],
   "source": [
    "code = inspect.getsource(func)\n",
    "print (code)"
   ]
  },
  {
   "cell_type": "markdown",
   "metadata": {},
   "source": [
    "## Trying out tracing for Lux"
   ]
  },
  {
   "cell_type": "code",
   "execution_count": 1,
   "metadata": {},
   "outputs": [],
   "source": [
    "import lux\n",
    "import pandas as pd"
   ]
  },
  {
   "cell_type": "code",
   "execution_count": 81,
   "metadata": {},
   "outputs": [],
   "source": [
    "df = pd.read_csv(\"https://raw.githubusercontent.com/lux-org/lux-datasets/master/data/car.csv\")\n",
    "df[\"Year\"] = pd.to_datetime(df[\"Year\"], format='%Y')"
   ]
  },
  {
   "cell_type": "code",
   "execution_count": 82,
   "metadata": {},
   "outputs": [],
   "source": [
    "import sys"
   ]
  },
  {
   "cell_type": "code",
   "execution_count": 83,
   "metadata": {},
   "outputs": [],
   "source": [
    "# import pickle as pkl\n",
    "# def profile_func( frame, event, arg):\n",
    "#     #Profile functions should have three arguments: frame, event, and arg. \n",
    "#     #frame is the current stack frame. \n",
    "#     #event is a string: 'call', 'return', 'c_call', 'c_return', or 'c_exception'.\n",
    "#     #arg depends on the event type.\n",
    "#     try: \n",
    "#         if event == 'line' :\n",
    "#             fcode = frame.f_code             \n",
    "#             line_no = frame.f_lineno\n",
    "#             func_name = fcode.co_name\n",
    "#             #includeMod = ['lux/vis', 'lux/action', 'lux/vislib', 'lux/executor', 'lux/interestingness']\n",
    "#             includeMod = ['lux/executor']\n",
    "#             if any(x in frame.f_code.co_filename for x in includeMod):\n",
    "#                 codelines = open(frame.f_code.co_filename).readlines()\n",
    "#                 if (func_name!=\"<lambda>\"): #ignore one-liner lambda functions (repeated line events)\n",
    "#                     ignore_construct = ['if','elif','for','return'] # prune out these control flow programming constructs\n",
    "#                     code = codelines[line_no-1]\n",
    "#                     if not any(construct in code for construct in ignore_construct):\n",
    "#                         print (f\"{frame.f_code.co_filename}--{func_name}--{line_no}\")  \n",
    "#                         print (codelines[line_no-1])\n",
    "# #                 print (fcode)\n",
    "                \n",
    "#                 #print (inspect.getsourcelines(fcode))\n",
    "# #                 pkl.dump(frame.f_code,open(\"frame.pkl\",'wb'))\n",
    "#     except:\n",
    "#         # pass  # just swallow errors to avoid interference with traced processes\n",
    "#         raise  # for debugging\n",
    "#     return profile_func"
   ]
  },
  {
   "cell_type": "code",
   "execution_count": 102,
   "metadata": {},
   "outputs": [],
   "source": [
    "import pickle as pkl\n",
    "relevant_lines=[]\n",
    "def profile_func( frame, event, arg):\n",
    "    #Profile functions should have three arguments: frame, event, and arg. \n",
    "    #frame is the current stack frame. \n",
    "    #event is a string: 'call', 'return', 'c_call', 'c_return', or 'c_exception'.\n",
    "    #arg depends on the event type.\n",
    "    # See: https://docs.python.org/3/library/sys.html#sys.settrace\n",
    "    try: \n",
    "        if event == 'line' :\n",
    "            #frame objects are described here: https://docs.python.org/3/library/inspect.html\n",
    "            fcode = frame.f_code             \n",
    "            line_no = frame.f_lineno\n",
    "            func_name = fcode.co_name\n",
    "            #includeMod = ['lux/vis', 'lux/action', 'lux/vislib', 'lux/executor', 'lux/interestingness']\n",
    "            includeMod = ['lux/vislib','lux/executor']\n",
    "            if any(x in frame.f_code.co_filename for x in includeMod):\n",
    "                if (func_name!=\"<lambda>\"): #ignore one-liner lambda functions (repeated line events)\n",
    "                    relevant_lines.append([frame.f_code.co_filename,func_name,line_no])\n",
    "#                     print (f\"{frame.f_code.co_filename}--{func_name}--{line_no}\")  \n",
    "#                 print (fcode)\n",
    "                \n",
    "                #print (inspect.getsourcelines(fcode))\n",
    "#                 pkl.dump(frame.f_code,open(\"frame.pkl\",'wb'))\n",
    "    except:\n",
    "        # pass  # just swallow errors to avoid interference with traced processes\n",
    "        raise  # for debugging\n",
    "    return profile_func"
   ]
  },
  {
   "cell_type": "code",
   "execution_count": 103,
   "metadata": {},
   "outputs": [],
   "source": [
    "# from black import format_str, FileMode\n",
    "# res = format_str(selected, mode=FileMode())\n",
    "# print(res)"
   ]
  },
  {
   "cell_type": "code",
   "execution_count": 104,
   "metadata": {},
   "outputs": [],
   "source": [
    "# import glob\n",
    "# glob.glob(\"lux/*\")"
   ]
  },
  {
   "cell_type": "code",
   "execution_count": 105,
   "metadata": {},
   "outputs": [],
   "source": [
    "def start_tracing():\n",
    "    print (\"-----------start_tracing-----------\")\n",
    "    # Implement python source debugger: https://docs.python.org/3/library/sys.html#sys.settrace\n",
    "    # setprofile faster than settrace (only go through I/O)\n",
    "    sys.settrace(profile_func) \n",
    "def stop_tracing():\n",
    "    print (\"-----------stop_tracing-----------\")\n",
    "    sys.settrace(None) "
   ]
  },
  {
   "cell_type": "code",
   "execution_count": 106,
   "metadata": {},
   "outputs": [
    {
     "name": "stdout",
     "output_type": "stream",
     "text": [
      "-----------start_tracing-----------\n"
     ]
    }
   ],
   "source": [
    "start_tracing()"
   ]
  },
  {
   "cell_type": "code",
   "execution_count": 107,
   "metadata": {
    "scrolled": false
   },
   "outputs": [
    {
     "name": "stdout",
     "output_type": "stream",
     "text": [
      "CPU times: user 21 µs, sys: 0 ns, total: 21 µs\n",
      "Wall time: 35 µs\n"
     ]
    },
    {
     "data": {
      "application/vnd.jupyter.widget-view+json": {
       "model_id": "522ce73053ac4116a356014e3b924b81",
       "version_major": 2,
       "version_minor": 0
      },
      "text/plain": [
       "LuxWidget(current_vis={'config': {'view': {'continuousWidth': 400, 'continuousHeight': 300}, 'axis': {'labelCo…"
      ]
     },
     "metadata": {},
     "output_type": "display_data"
    },
    {
     "data": {
      "text/plain": [
       "<Vis  (x: BIN(Horsepower), y: COUNT(Record)) mark: histogram, score: 0.0 >"
      ]
     },
     "execution_count": 107,
     "metadata": {},
     "output_type": "execute_result"
    }
   ],
   "source": [
    "%time \n",
    "from lux.vis.Vis import Vis\n",
    "vis  = Vis([\"Horsepower\"],df)\n",
    "vis"
   ]
  },
  {
   "cell_type": "code",
   "execution_count": 108,
   "metadata": {
    "scrolled": true
   },
   "outputs": [
    {
     "name": "stdout",
     "output_type": "stream",
     "text": [
      "-----------stop_tracing-----------\n"
     ]
    }
   ],
   "source": [
    "stop_tracing()"
   ]
  },
  {
   "cell_type": "code",
   "execution_count": 114,
   "metadata": {},
   "outputs": [
    {
     "name": "stdout",
     "output_type": "stream",
     "text": [
      "CPU times: user 2 µs, sys: 0 ns, total: 2 µs\n",
      "Wall time: 6.2 µs\n"
     ]
    },
    {
     "data": {
      "application/vnd.jupyter.widget-view+json": {
       "model_id": "ee64f609c8fe471689181febd30f7fdc",
       "version_major": 2,
       "version_minor": 0
      },
      "text/plain": [
       "LuxWidget(current_vis={'config': {'view': {'continuousWidth': 400, 'continuousHeight': 300}, 'axis': {'labelCo…"
      ]
     },
     "metadata": {},
     "output_type": "display_data"
    },
    {
     "data": {
      "text/plain": [
       "<Vis  (x: BIN(Horsepower), y: COUNT(Record)) mark: histogram, score: 0.0 >"
      ]
     },
     "execution_count": 114,
     "metadata": {},
     "output_type": "execute_result"
    }
   ],
   "source": [
    "%time\n",
    "from lux.vis.Vis import Vis\n",
    "vis  = Vis([\"Horsepower\"],df)\n",
    "vis"
   ]
  },
  {
   "cell_type": "code",
   "execution_count": 110,
   "metadata": {},
   "outputs": [
    {
     "name": "stdout",
     "output_type": "stream",
     "text": [
      "/Users/dorislee/Desktop/Research/lux/dorisjlee_fork/lux/executor/PandasExecutor.py--execute_sampling--40\n",
      "SAMPLE_START = 10000\n",
      "\n",
      "/Users/dorislee/Desktop/Research/lux/dorisjlee_fork/lux/executor/PandasExecutor.py--execute_sampling--41\n",
      "SAMPLE_CAP = 30000\n",
      "\n",
      "/Users/dorislee/Desktop/Research/lux/dorisjlee_fork/lux/executor/PandasExecutor.py--execute_sampling--42\n",
      "SAMPLE_FRAC = 0.75\n",
      "\n",
      "/Users/dorislee/Desktop/Research/lux/dorisjlee_fork/lux/executor/PandasExecutor.py--execute_sampling--58\n",
      "ldf._sampled = ldf\n",
      "\n",
      "/Users/dorislee/Desktop/Research/lux/dorisjlee_fork/lux/executor/PandasExecutor.py--execute--83\n",
      "ldf._sampled\n",
      "\n",
      "/Users/dorislee/Desktop/Research/lux/dorisjlee_fork/lux/executor/PandasExecutor.py--execute--82\n",
      "vis._vis_data = (\n",
      "\n",
      "/Users/dorislee/Desktop/Research/lux/dorisjlee_fork/lux/executor/PandasExecutor.py--execute_filter--275\n",
      "vis.data is not None\n",
      "\n",
      "/Users/dorislee/Desktop/Research/lux/dorisjlee_fork/lux/executor/PandasExecutor.py--execute_filter--274\n",
      "assert (\n",
      "\n",
      "/Users/dorislee/Desktop/Research/lux/dorisjlee_fork/lux/executor/PandasExecutor.py--execute_filter--277\n",
      "filters = utils.get_filter_specs(vis._inferred_intent)\n",
      "\n",
      "/Users/dorislee/Desktop/Research/lux/dorisjlee_fork/lux/executor/PandasExecutor.py--execute--87\n",
      "attributes = utils.get_unique_attrnames(vis._inferred_intent)\n",
      "\n",
      "/Users/dorislee/Desktop/Research/lux/dorisjlee_fork/lux/executor/PandasExecutor.py--execute--89\n",
      "vis._vis_data = vis.data[attributes]\n",
      "\n",
      "/Users/dorislee/Desktop/Research/lux/dorisjlee_fork/lux/executor/PandasExecutor.py--execute_binning--255\n",
      "import numpy as np\n",
      "\n",
      "/Users/dorislee/Desktop/Research/lux/dorisjlee_fork/lux/executor/PandasExecutor.py--execute_binning--257\n",
      "bin_attribute = list(filter(lambda x: x.bin_size != 0, vis._inferred_intent))[0]\n",
      "\n",
      "/Users/dorislee/Desktop/Research/lux/dorisjlee_fork/lux/executor/PandasExecutor.py--execute_binning--259\n",
      "series = vis.data[\n",
      "\n",
      "/Users/dorislee/Desktop/Research/lux/dorisjlee_fork/lux/executor/PandasExecutor.py--execute_binning--260\n",
      "bin_attribute.attribute\n",
      "\n",
      "/Users/dorislee/Desktop/Research/lux/dorisjlee_fork/lux/executor/PandasExecutor.py--execute_binning--259\n",
      "series = vis.data[\n",
      "\n",
      "/Users/dorislee/Desktop/Research/lux/dorisjlee_fork/lux/executor/PandasExecutor.py--execute_binning--263\n",
      "counts, bin_edges = np.histogram(series, bins=bin_attribute.bin_size)\n",
      "\n",
      "/Users/dorislee/Desktop/Research/lux/dorisjlee_fork/lux/executor/PandasExecutor.py--execute_binning--265\n",
      "bin_center = np.mean(np.vstack([bin_edges[0:-1], bin_edges[1:]]), axis=0)\n",
      "\n",
      "/Users/dorislee/Desktop/Research/lux/dorisjlee_fork/lux/executor/PandasExecutor.py--execute_binning--267\n",
      "vis._vis_data = pd.DataFrame(\n",
      "\n",
      "/Users/dorislee/Desktop/Research/lux/dorisjlee_fork/lux/executor/PandasExecutor.py--execute_binning--268\n",
      "np.array([bin_center, counts]).T,\n",
      "\n",
      "/Users/dorislee/Desktop/Research/lux/dorisjlee_fork/lux/executor/PandasExecutor.py--execute_binning--269\n",
      "columns=[bin_attribute.attribute, \"Number of Records\"],\n",
      "\n",
      "/Users/dorislee/Desktop/Research/lux/dorisjlee_fork/lux/executor/PandasExecutor.py--execute_binning--267\n",
      "vis._vis_data = pd.DataFrame(\n",
      "\n",
      "/Users/dorislee/Desktop/Research/lux/dorisjlee_fork/lux/vislib/altair/AltairRenderer.py--create_vis--60\n",
      "vis.data[attr].iloc[0], pd.Period\n",
      "\n",
      "/Users/dorislee/Desktop/Research/lux/dorisjlee_fork/lux/vislib/altair/AltairRenderer.py--create_vis--65\n",
      "vis.data[attr].iloc[0], pd.Interval\n",
      "\n",
      "/Users/dorislee/Desktop/Research/lux/dorisjlee_fork/lux/vislib/altair/AltairRenderer.py--create_vis--60\n",
      "vis.data[attr].iloc[0], pd.Period\n",
      "\n",
      "/Users/dorislee/Desktop/Research/lux/dorisjlee_fork/lux/vislib/altair/AltairRenderer.py--create_vis--65\n",
      "vis.data[attr].iloc[0], pd.Interval\n",
      "\n",
      "/Users/dorislee/Desktop/Research/lux/dorisjlee_fork/lux/vislib/altair/AltairRenderer.py--create_vis--69\n",
      "chart = Histogram(vis)\n",
      "\n",
      "/Users/dorislee/Desktop/Research/lux/dorisjlee_fork/lux/vislib/altair/Histogram.py--initialize_chart--37\n",
      "self.tooltip = False\n",
      "\n",
      "/Users/dorislee/Desktop/Research/lux/dorisjlee_fork/lux/vislib/altair/Histogram.py--initialize_chart--38\n",
      "measure = self.vis.get_attr_by_data_model(\"measure\", exclude_record=True)[0]\n",
      "\n",
      "/Users/dorislee/Desktop/Research/lux/dorisjlee_fork/lux/vislib/altair/Histogram.py--initialize_chart--39\n",
      "msr_attr = self.vis.get_attr_by_channel(measure.channel)[0]\n",
      "\n",
      "/Users/dorislee/Desktop/Research/lux/dorisjlee_fork/lux/vislib/altair/Histogram.py--initialize_chart--40\n",
      "x_min = self.vis.min_max[msr_attr.attribute][0]\n",
      "\n",
      "/Users/dorislee/Desktop/Research/lux/dorisjlee_fork/lux/vislib/altair/Histogram.py--initialize_chart--41\n",
      "x_max = self.vis.min_max[msr_attr.attribute][1]\n",
      "\n",
      "/Users/dorislee/Desktop/Research/lux/dorisjlee_fork/lux/vislib/altair/Histogram.py--initialize_chart--43\n",
      "x_range = abs(\n",
      "\n",
      "/Users/dorislee/Desktop/Research/lux/dorisjlee_fork/lux/vislib/altair/Histogram.py--initialize_chart--44\n",
      "max(self.vis.data[msr_attr.attribute])\n",
      "\n",
      "/Users/dorislee/Desktop/Research/lux/dorisjlee_fork/lux/vislib/altair/Histogram.py--initialize_chart--45\n",
      "- min(self.vis.data[msr_attr.attribute])\n",
      "\n",
      "/Users/dorislee/Desktop/Research/lux/dorisjlee_fork/lux/vislib/altair/Histogram.py--initialize_chart--44\n",
      "max(self.vis.data[msr_attr.attribute])\n",
      "\n",
      "/Users/dorislee/Desktop/Research/lux/dorisjlee_fork/lux/vislib/altair/Histogram.py--initialize_chart--43\n",
      "x_range = abs(\n",
      "\n",
      "/Users/dorislee/Desktop/Research/lux/dorisjlee_fork/lux/vislib/altair/Histogram.py--initialize_chart--47\n",
      "plot_range = abs(x_max - x_min)\n",
      "\n",
      "/Users/dorislee/Desktop/Research/lux/dorisjlee_fork/lux/vislib/altair/Histogram.py--initialize_chart--48\n",
      "markbar = x_range / plot_range * 12\n",
      "\n",
      "/Users/dorislee/Desktop/Research/lux/dorisjlee_fork/lux/vislib/altair/Histogram.py--initialize_chart--52\n",
      "alt.Chart(self.data)\n",
      "\n",
      "/Users/dorislee/Desktop/Research/lux/dorisjlee_fork/lux/vislib/altair/Histogram.py--initialize_chart--53\n",
      ".mark_bar(size=markbar)\n",
      "\n",
      "/Users/dorislee/Desktop/Research/lux/dorisjlee_fork/lux/vislib/altair/Histogram.py--initialize_chart--52\n",
      "alt.Chart(self.data)\n",
      "\n",
      "/Users/dorislee/Desktop/Research/lux/dorisjlee_fork/lux/vislib/altair/Histogram.py--initialize_chart--55\n",
      "alt.X(\n",
      "\n",
      "/Users/dorislee/Desktop/Research/lux/dorisjlee_fork/lux/vislib/altair/Histogram.py--initialize_chart--56\n",
      "msr_attr.attribute,\n",
      "\n",
      "/Users/dorislee/Desktop/Research/lux/dorisjlee_fork/lux/vislib/altair/Histogram.py--initialize_chart--57\n",
      "title=f\"{msr_attr.attribute} (binned)\",\n",
      "\n",
      "/Users/dorislee/Desktop/Research/lux/dorisjlee_fork/lux/vislib/altair/Histogram.py--initialize_chart--58\n",
      "bin=alt.Bin(binned=True),\n",
      "\n",
      "/Users/dorislee/Desktop/Research/lux/dorisjlee_fork/lux/vislib/altair/Histogram.py--initialize_chart--59\n",
      "type=msr_attr.data_type,\n",
      "\n",
      "/Users/dorislee/Desktop/Research/lux/dorisjlee_fork/lux/vislib/altair/Histogram.py--initialize_chart--60\n",
      "axis=alt.Axis(labelOverlap=True),\n",
      "\n",
      "/Users/dorislee/Desktop/Research/lux/dorisjlee_fork/lux/vislib/altair/Histogram.py--initialize_chart--61\n",
      "scale=alt.Scale(domain=(x_min, x_max)),\n",
      "\n",
      "/Users/dorislee/Desktop/Research/lux/dorisjlee_fork/lux/vislib/altair/Histogram.py--initialize_chart--55\n",
      "alt.X(\n",
      "\n",
      "/Users/dorislee/Desktop/Research/lux/dorisjlee_fork/lux/vislib/altair/Histogram.py--initialize_chart--63\n",
      "alt.Y(\"Number of Records\", type=\"quantitative\"),\n",
      "\n",
      "/Users/dorislee/Desktop/Research/lux/dorisjlee_fork/lux/vislib/altair/Histogram.py--initialize_chart--52\n",
      "alt.Chart(self.data)\n",
      "\n",
      "/Users/dorislee/Desktop/Research/lux/dorisjlee_fork/lux/vislib/altair/Histogram.py--initialize_chart--51\n",
      "chart = (\n",
      "\n",
      "/Users/dorislee/Desktop/Research/lux/dorisjlee_fork/lux/vislib/altair/Histogram.py--initialize_chart--90\n",
      "chart = alt.Chart(visData).mark_bar(size={markbar}).encode(\n",
      "\n",
      "/Users/dorislee/Desktop/Research/lux/dorisjlee_fork/lux/vislib/altair/Histogram.py--initialize_chart--91\n",
      "alt.X('{msr_attr.attribute}', title='{msr_attr.attribute} (binned)',bin=alt.Bin(binned=True), type='{msr_attr.data_type}', axis=alt.Axis(labelOverlap=True), scale=alt.Scale(domain=({x_min}, {x_max}))),\n",
      "\n",
      "/Users/dorislee/Desktop/Research/lux/dorisjlee_fork/lux/vislib/altair/Histogram.py--initialize_chart--91\n",
      "alt.X('{msr_attr.attribute}', title='{msr_attr.attribute} (binned)',bin=alt.Bin(binned=True), type='{msr_attr.data_type}', axis=alt.Axis(labelOverlap=True), scale=alt.Scale(domain=({x_min}, {x_max}))),\n",
      "\n",
      "/Users/dorislee/Desktop/Research/lux/dorisjlee_fork/lux/vislib/altair/Histogram.py--initialize_chart--91\n",
      "alt.X('{msr_attr.attribute}', title='{msr_attr.attribute} (binned)',bin=alt.Bin(binned=True), type='{msr_attr.data_type}', axis=alt.Axis(labelOverlap=True), scale=alt.Scale(domain=({x_min}, {x_max}))),\n",
      "\n",
      "/Users/dorislee/Desktop/Research/lux/dorisjlee_fork/lux/vislib/altair/Histogram.py--initialize_chart--91\n",
      "alt.X('{msr_attr.attribute}', title='{msr_attr.attribute} (binned)',bin=alt.Bin(binned=True), type='{msr_attr.data_type}', axis=alt.Axis(labelOverlap=True), scale=alt.Scale(domain=({x_min}, {x_max}))),\n",
      "\n",
      "/Users/dorislee/Desktop/Research/lux/dorisjlee_fork/lux/vislib/altair/Histogram.py--initialize_chart--91\n",
      "alt.X('{msr_attr.attribute}', title='{msr_attr.attribute} (binned)',bin=alt.Bin(binned=True), type='{msr_attr.data_type}', axis=alt.Axis(labelOverlap=True), scale=alt.Scale(domain=({x_min}, {x_max}))),\n",
      "\n",
      "/Users/dorislee/Desktop/Research/lux/dorisjlee_fork/lux/vislib/altair/AltairChart.py--encode_color--83\n",
      "color_attr = self.vis.get_attr_by_channel(\"color\")\n",
      "\n",
      "/Users/dorislee/Desktop/Research/lux/dorisjlee_fork/lux/vislib/altair/AltairChart.py--add_title--109\n",
      "chart_title = self.vis.title\n",
      "\n",
      "/Users/dorislee/Desktop/Research/lux/dorisjlee_fork/lux/vislib/altair/AltairChart.py--apply_default_config--52\n",
      "self.chart = self.chart.configure_title(\n",
      "\n",
      "/Users/dorislee/Desktop/Research/lux/dorisjlee_fork/lux/vislib/altair/AltairChart.py--apply_default_config--53\n",
      "fontWeight=500, fontSize=13, font=\"Helvetica Neue\"\n",
      "\n",
      "/Users/dorislee/Desktop/Research/lux/dorisjlee_fork/lux/vislib/altair/AltairChart.py--apply_default_config--52\n",
      "self.chart = self.chart.configure_title(\n",
      "\n",
      "/Users/dorislee/Desktop/Research/lux/dorisjlee_fork/lux/vislib/altair/AltairChart.py--apply_default_config--55\n",
      "self.chart = self.chart.configure_axis(\n",
      "\n",
      "/Users/dorislee/Desktop/Research/lux/dorisjlee_fork/lux/vislib/altair/AltairChart.py--apply_default_config--56\n",
      "titleFontWeight=500,\n",
      "\n",
      "/Users/dorislee/Desktop/Research/lux/dorisjlee_fork/lux/vislib/altair/AltairChart.py--apply_default_config--57\n",
      "titleFontSize=11,\n",
      "\n",
      "/Users/dorislee/Desktop/Research/lux/dorisjlee_fork/lux/vislib/altair/AltairChart.py--apply_default_config--58\n",
      "titleFont=\"Helvetica Neue\",\n",
      "\n",
      "/Users/dorislee/Desktop/Research/lux/dorisjlee_fork/lux/vislib/altair/AltairChart.py--apply_default_config--59\n",
      "labelFontWeight=400,\n",
      "\n",
      "/Users/dorislee/Desktop/Research/lux/dorisjlee_fork/lux/vislib/altair/AltairChart.py--apply_default_config--60\n",
      "labelFontSize=9,\n",
      "\n",
      "/Users/dorislee/Desktop/Research/lux/dorisjlee_fork/lux/vislib/altair/AltairChart.py--apply_default_config--61\n",
      "labelFont=\"Helvetica Neue\",\n",
      "\n",
      "/Users/dorislee/Desktop/Research/lux/dorisjlee_fork/lux/vislib/altair/AltairChart.py--apply_default_config--62\n",
      "labelColor=\"#505050\",\n",
      "\n",
      "/Users/dorislee/Desktop/Research/lux/dorisjlee_fork/lux/vislib/altair/AltairChart.py--apply_default_config--55\n",
      "self.chart = self.chart.configure_axis(\n",
      "\n",
      "/Users/dorislee/Desktop/Research/lux/dorisjlee_fork/lux/vislib/altair/AltairChart.py--apply_default_config--64\n",
      "self.chart = self.chart.configure_legend(\n",
      "\n",
      "/Users/dorislee/Desktop/Research/lux/dorisjlee_fork/lux/vislib/altair/AltairChart.py--apply_default_config--65\n",
      "titleFontWeight=500,\n",
      "\n",
      "/Users/dorislee/Desktop/Research/lux/dorisjlee_fork/lux/vislib/altair/AltairChart.py--apply_default_config--66\n",
      "titleFontSize=10,\n",
      "\n",
      "/Users/dorislee/Desktop/Research/lux/dorisjlee_fork/lux/vislib/altair/AltairChart.py--apply_default_config--67\n",
      "titleFont=\"Helvetica Neue\",\n",
      "\n",
      "/Users/dorislee/Desktop/Research/lux/dorisjlee_fork/lux/vislib/altair/AltairChart.py--apply_default_config--68\n",
      "labelFontWeight=400,\n",
      "\n",
      "/Users/dorislee/Desktop/Research/lux/dorisjlee_fork/lux/vislib/altair/AltairChart.py--apply_default_config--69\n",
      "labelFontSize=9,\n",
      "\n",
      "/Users/dorislee/Desktop/Research/lux/dorisjlee_fork/lux/vislib/altair/AltairChart.py--apply_default_config--70\n",
      "labelFont=\"Helvetica Neue\",\n",
      "\n",
      "/Users/dorislee/Desktop/Research/lux/dorisjlee_fork/lux/vislib/altair/AltairChart.py--apply_default_config--64\n",
      "self.chart = self.chart.configure_legend(\n",
      "\n",
      "/Users/dorislee/Desktop/Research/lux/dorisjlee_fork/lux/vislib/altair/AltairChart.py--apply_default_config--72\n",
      "self.chart = self.chart.properties(width=160, height=150)\n",
      "\n",
      "/Users/dorislee/Desktop/Research/lux/dorisjlee_fork/lux/vislib/altair/AltairChart.py--apply_default_config--78\n",
      "\"\t\t\t\t\tlabelFontWeight=400,labelFontSize=8,labelFont='Helvetica Neue')\\n\"\n",
      "\n",
      "/Users/dorislee/Desktop/Research/lux/dorisjlee_fork/lux/vislib/altair/AltairRenderer.py--create_vis--85\n",
      "chart_dict = chart.chart.to_dict()\n",
      "\n"
     ]
    }
   ],
   "source": [
    "selected = \"\"\n",
    "for line in relevant_lines:\n",
    "    filename = line[0]\n",
    "    funcname = line[1]\n",
    "    line_no = line[2]-1\n",
    "    if \"Executor.py\" not in filename or (\"Executor.py\" in filename and \"execute\" in funcname):\n",
    "        codelines = open(filename).readlines()# TODO: do sharing of file content here\n",
    "        if (funcname not in ['__init__']):\n",
    "            code = codelines[line_no]\n",
    "            ignore_construct = ['if','elif','for','return'] # prune out these control flow programming constructs                    \n",
    "            ignore_lux_keyword = ['self.code','self.name','__init__','PandasExecutor.',\"'''\",'self.output_type']# Lux-specific keywords to ignore\n",
    "            ignore = ignore_construct+ignore_lux_keyword\n",
    "            if not any(construct in code for construct in ignore):\n",
    "                print (f\"{filename}--{funcname}--{line_no}\")  \n",
    "                print (codelines[line_no].lstrip())\n",
    "                selected+=codelines[line_no].lstrip()"
   ]
  },
  {
   "cell_type": "code",
   "execution_count": 111,
   "metadata": {},
   "outputs": [],
   "source": [
    "# We should identify root calls like this 'PandasExecutor.execute_binning(vis)' and extract their docstring as documentation to the code"
   ]
  },
  {
   "cell_type": "code",
   "execution_count": 112,
   "metadata": {},
   "outputs": [],
   "source": [
    "selected = selected.replace(\"vis._vis_data\",\"visdf\").replace('vis.data','visdf').replace(\"self.data\",\"visdf\").replace('self.chart',\"chart\").replace('self.vis','vis')"
   ]
  },
  {
   "cell_type": "code",
   "execution_count": 113,
   "metadata": {},
   "outputs": [
    {
     "name": "stdout",
     "output_type": "stream",
     "text": [
      "SAMPLE_START = 10000\n",
      "SAMPLE_CAP = 30000\n",
      "SAMPLE_FRAC = 0.75\n",
      "ldf._sampled = ldf\n",
      "ldf._sampled\n",
      "visdf = (\n",
      "visdf is not None\n",
      "assert (\n",
      "filters = utils.get_filter_specs(vis._inferred_intent)\n",
      "attributes = utils.get_unique_attrnames(vis._inferred_intent)\n",
      "visdf = visdf[attributes]\n",
      "import numpy as np\n",
      "bin_attribute = list(filter(lambda x: x.bin_size != 0, vis._inferred_intent))[0]\n",
      "series = visdf[\n",
      "bin_attribute.attribute\n",
      "series = visdf[\n",
      "counts, bin_edges = np.histogram(series, bins=bin_attribute.bin_size)\n",
      "bin_center = np.mean(np.vstack([bin_edges[0:-1], bin_edges[1:]]), axis=0)\n",
      "visdf = pd.DataFrame(\n",
      "np.array([bin_center, counts]).T,\n",
      "columns=[bin_attribute.attribute, \"Number of Records\"],\n",
      "visdf = pd.DataFrame(\n",
      "visdf[attr].iloc[0], pd.Period\n",
      "visdf[attr].iloc[0], pd.Interval\n",
      "visdf[attr].iloc[0], pd.Period\n",
      "visdf[attr].iloc[0], pd.Interval\n",
      "chart = Histogram(vis)\n",
      "self.tooltip = False\n",
      "measure = vis.get_attr_by_data_model(\"measure\", exclude_record=True)[0]\n",
      "msr_attr = vis.get_attr_by_channel(measure.channel)[0]\n",
      "x_min = vis.min_max[msr_attr.attribute][0]\n",
      "x_max = vis.min_max[msr_attr.attribute][1]\n",
      "x_range = abs(\n",
      "max(visdf[msr_attr.attribute])\n",
      "- min(visdf[msr_attr.attribute])\n",
      "max(visdf[msr_attr.attribute])\n",
      "x_range = abs(\n",
      "plot_range = abs(x_max - x_min)\n",
      "markbar = x_range / plot_range * 12\n",
      "alt.Chart(visdf)\n",
      ".mark_bar(size=markbar)\n",
      "alt.Chart(visdf)\n",
      "alt.X(\n",
      "msr_attr.attribute,\n",
      "title=f\"{msr_attr.attribute} (binned)\",\n",
      "bin=alt.Bin(binned=True),\n",
      "type=msr_attr.data_type,\n",
      "axis=alt.Axis(labelOverlap=True),\n",
      "scale=alt.Scale(domain=(x_min, x_max)),\n",
      "alt.X(\n",
      "alt.Y(\"Number of Records\", type=\"quantitative\"),\n",
      "alt.Chart(visdf)\n",
      "chart = (\n",
      "chart = alt.Chart(visData).mark_bar(size={markbar}).encode(\n",
      "alt.X('{msr_attr.attribute}', title='{msr_attr.attribute} (binned)',bin=alt.Bin(binned=True), type='{msr_attr.data_type}', axis=alt.Axis(labelOverlap=True), scale=alt.Scale(domain=({x_min}, {x_max}))),\n",
      "alt.X('{msr_attr.attribute}', title='{msr_attr.attribute} (binned)',bin=alt.Bin(binned=True), type='{msr_attr.data_type}', axis=alt.Axis(labelOverlap=True), scale=alt.Scale(domain=({x_min}, {x_max}))),\n",
      "alt.X('{msr_attr.attribute}', title='{msr_attr.attribute} (binned)',bin=alt.Bin(binned=True), type='{msr_attr.data_type}', axis=alt.Axis(labelOverlap=True), scale=alt.Scale(domain=({x_min}, {x_max}))),\n",
      "alt.X('{msr_attr.attribute}', title='{msr_attr.attribute} (binned)',bin=alt.Bin(binned=True), type='{msr_attr.data_type}', axis=alt.Axis(labelOverlap=True), scale=alt.Scale(domain=({x_min}, {x_max}))),\n",
      "alt.X('{msr_attr.attribute}', title='{msr_attr.attribute} (binned)',bin=alt.Bin(binned=True), type='{msr_attr.data_type}', axis=alt.Axis(labelOverlap=True), scale=alt.Scale(domain=({x_min}, {x_max}))),\n",
      "color_attr = vis.get_attr_by_channel(\"color\")\n",
      "chart_title = vis.title\n",
      "chart = chart.configure_title(\n",
      "fontWeight=500, fontSize=13, font=\"Helvetica Neue\"\n",
      "chart = chart.configure_title(\n",
      "chart = chart.configure_axis(\n",
      "titleFontWeight=500,\n",
      "titleFontSize=11,\n",
      "titleFont=\"Helvetica Neue\",\n",
      "labelFontWeight=400,\n",
      "labelFontSize=9,\n",
      "labelFont=\"Helvetica Neue\",\n",
      "labelColor=\"#505050\",\n",
      "chart = chart.configure_axis(\n",
      "chart = chart.configure_legend(\n",
      "titleFontWeight=500,\n",
      "titleFontSize=10,\n",
      "titleFont=\"Helvetica Neue\",\n",
      "labelFontWeight=400,\n",
      "labelFontSize=9,\n",
      "labelFont=\"Helvetica Neue\",\n",
      "chart = chart.configure_legend(\n",
      "chart = chart.properties(width=160, height=150)\n",
      "\"\t\t\t\t\tlabelFontWeight=400,labelFontSize=8,labelFont='Helvetica Neue')\\n\"\n",
      "chart_dict = chart.chart.to_dict()\n",
      "\n"
     ]
    }
   ],
   "source": [
    "print (selected)"
   ]
  },
  {
   "cell_type": "code",
   "execution_count": null,
   "metadata": {},
   "outputs": [],
   "source": [
    "# Important root calls\n",
    "# ['execute_*',]"
   ]
  },
  {
   "cell_type": "code",
   "execution_count": null,
   "metadata": {},
   "outputs": [],
   "source": [
    "print (selected)"
   ]
  },
  {
   "cell_type": "code",
   "execution_count": null,
   "metadata": {},
   "outputs": [],
   "source": [
    "def plot_vis(vis,df):\n",
    "    visdf = df\n",
    "    filters = utils.get_filter_specs(vis._inferred_intent)\n",
    "    attributes = utils.get_unique_attrnames(vis._inferred_intent)\n",
    "    visdf = visdf[attributes]\n",
    "    import numpy as np\n",
    "    bin_attribute = list(filter(lambda x: x.bin_size!=0,vis._inferred_intent))[0]\n",
    "    series = visdf[bin_attribute.attribute].dropna() \n",
    "    counts,bin_edges = np.histogram(series,bins=bin_attribute.bin_size)\n",
    "    bin_center = np.mean(np.vstack([bin_edges[0:-1],bin_edges[1:]]), axis=0)\n",
    "    visdf = pd.DataFrame(np.array([bin_center,counts]).T,columns=[bin_attribute.attribute, \"Number of Records\"])\n",
    "    # self.output_type = output_type\n",
    "    # chart = Histogram(vis)\n",
    "    # vis = vis\n",
    "    # visdf = vis.data\n",
    "    # self.tooltip = True\n",
    "    # chart = self.initialize_chart()\n",
    "    # self.tooltip = False\n",
    "    import altair as alt\n",
    "    measure = vis.get_attr_by_data_model(\"measure\",exclude_record=True)[0]\n",
    "    msr_attr = vis.get_attr_by_channel(measure.channel)[0]\n",
    "    x_min = vis.min_max[msr_attr.attribute][0]\n",
    "    x_max = vis.min_max[msr_attr.attribute][1]\n",
    "    x_range = abs(max(vis.data[msr_attr.attribute]) - \n",
    "    min(vis.data[msr_attr.attribute]))\n",
    "    plot_range = abs(x_max - x_min)\n",
    "    markbar = x_range / plot_range * 12\n",
    "    chart = alt.Chart(visdf).mark_bar(size=markbar).encode(\n",
    "    alt.X(msr_attr.attribute, title=f'{msr_attr.attribute} (binned)',bin=alt.Bin(binned=True), type=msr_attr.data_type, axis=alt.Axis(labelOverlap=True), scale=alt.Scale(domain=(x_min, x_max))),\n",
    "    alt.Y(\"Number of Records\", type=\"quantitative\")\n",
    "    )\n",
    "    # self.encode_color()\n",
    "    # color_attr = vis.get_attr_by_channel(\"color\")\n",
    "    # self.add_title()\n",
    "    # chart_title = vis.title\n",
    "    # self.apply_default_config()\n",
    "    chart = chart.configure_title(fontWeight=500,fontSize=13,font=\"Helvetica Neue\")\n",
    "    chart = chart.configure_axis(titleFontWeight=500,titleFontSize=11,titleFont=\"Helvetica Neue\",\n",
    "    labelFontWeight=400,labelFontSize=9,labelFont=\"Helvetica Neue\",labelColor=\"#505050\")\n",
    "    chart = chart.configure_legend(titleFontWeight=500,titleFontSize=10,titleFont=\"Helvetica Neue\",\n",
    "    labelFontWeight=400,labelFontSize=9,labelFont=\"Helvetica Neue\")\n",
    "    chart = chart.properties(width=160,height=150)\n",
    "    # chart_dict = chart.chart.to_dict()\n",
    "    return chart"
   ]
  },
  {
   "cell_type": "code",
   "execution_count": null,
   "metadata": {},
   "outputs": [],
   "source": [
    "plot_vis(vis,df)"
   ]
  },
  {
   "cell_type": "code",
   "execution_count": null,
   "metadata": {},
   "outputs": [],
   "source": [
    "from lux.utils import utils"
   ]
  },
  {
   "cell_type": "code",
   "execution_count": null,
   "metadata": {},
   "outputs": [],
   "source": [
    "filters = utils.get_filter_specs(vis._inferred_intent)\n",
    "attributes = utils.get_unique_attrnames(vis._inferred_intent)"
   ]
  },
  {
   "cell_type": "code",
   "execution_count": null,
   "metadata": {},
   "outputs": [],
   "source": [
    "# code = pkl.load(open(\"frame.pkl\",'rb'))"
   ]
  },
  {
   "cell_type": "code",
   "execution_count": null,
   "metadata": {},
   "outputs": [],
   "source": [
    "# print(inspect.getsource(code))"
   ]
  },
  {
   "cell_type": "code",
   "execution_count": null,
   "metadata": {},
   "outputs": [],
   "source": [
    "# print(vis.to_Altair())"
   ]
  },
  {
   "cell_type": "markdown",
   "metadata": {},
   "source": [
    "### Mock Example"
   ]
  },
  {
   "cell_type": "code",
   "execution_count": null,
   "metadata": {},
   "outputs": [],
   "source": [
    "def plot_vis(vis,df):\n",
    "    # Processing Data with Altair\n",
    "    visdf = df\n",
    "    filters = utils.get_filter_specs(vis._inferred_intent)\n",
    "    attributes = utils.get_unique_attrnames(vis._inferred_intent)\n",
    "    visdf = visdf[attributes]\n",
    "    import numpy as np\n",
    "    bin_attribute = list(filter(lambda x: x.bin_size!=0,vis._inferred_intent))[0]\n",
    "    series = visdf[bin_attribute.attribute].dropna() \n",
    "    counts,bin_edges = np.histogram(series,bins=bin_attribute.bin_size)\n",
    "    bin_center = np.mean(np.vstack([bin_edges[0:-1],bin_edges[1:]]), axis=0)\n",
    "    visdf = pd.DataFrame(np.array([bin_center,counts]).T,columns=[bin_attribute.attribute, \"Number of Records\"])\n",
    "\n",
    "    # Plotting Histogram with Altair\n",
    "    import altair as alt\n",
    "    measure = vis.get_attr_by_data_model(\"measure\",exclude_record=True)[0]\n",
    "    msr_attr = vis.get_attr_by_channel(measure.channel)[0]\n",
    "    x_min = vis.min_max[msr_attr.attribute][0]\n",
    "    x_max = vis.min_max[msr_attr.attribute][1]\n",
    "    x_range = abs(max(vis.data[msr_attr.attribute]) - \n",
    "    min(vis.data[msr_attr.attribute]))\n",
    "    plot_range = abs(x_max - x_min)\n",
    "    markbar = x_range / plot_range * 12\n",
    "    chart = alt.Chart(visdf).mark_bar(size=markbar).encode(\n",
    "    alt.X(msr_attr.attribute, title=f'{msr_attr.attribute} (binned)',bin=alt.Bin(binned=True), type=msr_attr.data_type, axis=alt.Axis(labelOverlap=True), scale=alt.Scale(domain=(x_min, x_max))),\n",
    "    alt.Y(\"Number of Records\", type=\"quantitative\")\n",
    "    )\n",
    "    chart = chart.configure_title(fontWeight=500,fontSize=13,font=\"Helvetica Neue\")\n",
    "    chart = chart.configure_axis(titleFontWeight=500,titleFontSize=11,titleFont=\"Helvetica Neue\",\n",
    "    labelFontWeight=400,labelFontSize=9,labelFont=\"Helvetica Neue\",labelColor=\"#505050\")\n",
    "    chart = chart.configure_legend(titleFontWeight=500,titleFontSize=10,titleFont=\"Helvetica Neue\",\n",
    "    labelFontWeight=400,labelFontSize=9,labelFont=\"Helvetica Neue\")\n",
    "    chart = chart.properties(width=160,height=150)\n",
    "    return chart"
   ]
  },
  {
   "cell_type": "code",
   "execution_count": null,
   "metadata": {},
   "outputs": [],
   "source": [
    "from lux.utils import utils\n",
    "filters = utils.get_filter_specs(vis._inferred_intent)\n",
    "attributes = utils.get_unique_attrnames(vis._inferred_intent)\n",
    "bin_attribute = list(filter(lambda x: x.bin_size!=0,vis._inferred_intent))[0]"
   ]
  },
  {
   "cell_type": "code",
   "execution_count": null,
   "metadata": {},
   "outputs": [],
   "source": [
    "bin_attribute"
   ]
  },
  {
   "cell_type": "code",
   "execution_count": null,
   "metadata": {},
   "outputs": [],
   "source": [
    "#Evaluated expressions"
   ]
  },
  {
   "cell_type": "code",
   "execution_count": null,
   "metadata": {},
   "outputs": [],
   "source": [
    "# Processing Data with Altair\n",
    "visdf = df[['Horsepower']]\n",
    "import numpy as np\n",
    "series = visdf['Horsepower'].dropna() \n",
    "counts,bin_edges = np.histogram(series,bins=10)\n",
    "bin_center = np.mean(np.vstack([bin_edges[0:-1],bin_edges[1:]]), axis=0)\n",
    "visdf = pd.DataFrame(np.array([bin_center,counts]).T,columns=['Horsepower', \"Number of Records\"])\n",
    "\n",
    "# Plotting Histogram with Altair\n",
    "import altair as alt\n",
    "measure = vis.get_attr_by_data_model(\"measure\",exclude_record=True)[0]\n",
    "msr_attr = vis.get_attr_by_channel(measure.channel)[0]\n",
    "x_min = vis.min_max['Horsepower'][0]\n",
    "x_max = vis.min_max['Horsepower'][1]\n",
    "x_range = abs(max(vis.data['Horsepower']) - \n",
    "min(vis.data['Horsepower']))\n",
    "plot_range = abs(x_max - x_min)\n",
    "markbar = x_range / plot_range * 12\n",
    "chart = alt.Chart(visdf).mark_bar(size=markbar).encode(\n",
    "alt.X('Horsepower', title='Horsepower (binned)',bin=alt.Bin(binned=True), type=msr_attr.data_type, axis=alt.Axis(labelOverlap=True), scale=alt.Scale(domain=(x_min, x_max))),\n",
    "alt.Y(\"Number of Records\", type=\"quantitative\")\n",
    ")\n",
    "chart = chart.configure_title(fontWeight=500,fontSize=13,font=\"Helvetica Neue\")\n",
    "chart = chart.configure_axis(titleFontWeight=500,titleFontSize=11,titleFont=\"Helvetica Neue\",\n",
    "labelFontWeight=400,labelFontSize=9,labelFont=\"Helvetica Neue\",labelColor=\"#505050\")\n",
    "chart = chart.configure_legend(titleFontWeight=500,titleFontSize=10,titleFont=\"Helvetica Neue\",\n",
    "labelFontWeight=400,labelFontSize=9,labelFont=\"Helvetica Neue\")\n",
    "chart = chart.properties(width=160,height=150)"
   ]
  },
  {
   "cell_type": "code",
   "execution_count": null,
   "metadata": {},
   "outputs": [],
   "source": []
  }
 ],
 "metadata": {
  "kernelspec": {
   "display_name": "Python 3",
   "language": "python",
   "name": "python3"
  },
  "language_info": {
   "codemirror_mode": {
    "name": "ipython",
    "version": 3
   },
   "file_extension": ".py",
   "mimetype": "text/x-python",
   "name": "python",
   "nbconvert_exporter": "python",
   "pygments_lexer": "ipython3",
   "version": "3.9.2"
  }
 },
 "nbformat": 4,
 "nbformat_minor": 4
}
