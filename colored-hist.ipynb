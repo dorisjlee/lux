{
 "cells": [
  {
   "cell_type": "code",
   "execution_count": null,
   "metadata": {},
   "outputs": [],
   "source": [
    "import pandas as pd\n",
    "import lux"
   ]
  },
  {
   "cell_type": "code",
   "execution_count": null,
   "metadata": {},
   "outputs": [],
   "source": [
    "from lux.vis.Vis import Vis\n",
    "\n",
    "df = pd.read_csv(\"../lux-datasets/data/olympic.csv\")\n",
    "df[\"Year\"]  = pd.to_datetime(df['Year'], format='%Y')\n",
    "vis = Vis([\"Height\", \"Season\"], df)\n",
    "\n",
    "df.set_intent_as_vis(vis)"
   ]
  },
  {
   "cell_type": "code",
   "execution_count": null,
   "metadata": {},
   "outputs": [],
   "source": [
    "from lux.vis.VisList import VisList"
   ]
  },
  {
   "cell_type": "code",
   "execution_count": null,
   "metadata": {},
   "outputs": [],
   "source": [
    "vis = df.current_vis[0]"
   ]
  },
  {
   "cell_type": "code",
   "execution_count": null,
   "metadata": {},
   "outputs": [],
   "source": [
    "vis.get_attr_by_data_model(\"measure\")[0].bin_size=10"
   ]
  },
  {
   "cell_type": "code",
   "execution_count": null,
   "metadata": {},
   "outputs": [],
   "source": [
    "for clause in vis._inferred_intent: clause.channel=\"\""
   ]
  },
  {
   "cell_type": "code",
   "execution_count": null,
   "metadata": {},
   "outputs": [],
   "source": [
    "vis._mark=\"histogram\""
   ]
  },
  {
   "cell_type": "code",
   "execution_count": null,
   "metadata": {},
   "outputs": [],
   "source": [
    "vis.refresh_source(df)\n",
    "vis"
   ]
  },
  {
   "cell_type": "code",
   "execution_count": null,
   "metadata": {},
   "outputs": [],
   "source": [
    "vlist = VisList([vis])"
   ]
  },
  {
   "cell_type": "code",
   "execution_count": null,
   "metadata": {},
   "outputs": [],
   "source": [
    "one_current_vis = lambda ldf: ldf.current_vis is not None and len(ldf.current_vis) == 1\n",
    "bar_1d1m = lambda ldf: ldf.current_vis[0].mark==\"bar\" and ldf.current_vis[0]._ndim == 1 and ldf.current_vis[0]._nmsr == 1\n",
    "def alternative(ldf):\n",
    "    intent = ldf.current_vis.intent.copy()\n",
    "    vis = Vis(intent,ldf)\n",
    "    vis._mark = \"histogram\"\n",
    "    for clause in vis._inferred_intent: clause.channel=\"\"\n",
    "    vis.refresh_source(ldf)\n",
    "    vlist = VisList([vis])\n",
    "    return {\"action\":\"Alternative\", \"description\": \"Displaying an alternative way of encoding the Current Visualization\", \"collection\": vlist}"
   ]
  },
  {
   "cell_type": "code",
   "execution_count": null,
   "metadata": {},
   "outputs": [],
   "source": [
    "vis.intent"
   ]
  },
  {
   "cell_type": "code",
   "execution_count": null,
   "metadata": {},
   "outputs": [],
   "source": [
    "lux.register_action(\"alternative\",alternative,bar_1d1m)"
   ]
  },
  {
   "cell_type": "code",
   "execution_count": null,
   "metadata": {
    "scrolled": true
   },
   "outputs": [],
   "source": [
    "df"
   ]
  },
  {
   "cell_type": "code",
   "execution_count": null,
   "metadata": {},
   "outputs": [],
   "source": [
    "df = pd.read_csv(\"../lux-datasets/data/college.csv\")\n",
    "vis = Vis([\"Region\", \"Geography\"], df)\n",
    "# vis.intent\n",
    "vis._inferred_intent\n",
    "vis\n",
    "# code = vis.to_Altair()"
   ]
  },
  {
   "cell_type": "code",
   "execution_count": null,
   "metadata": {},
   "outputs": [],
   "source": [
    "df = pd.read_csv(\"../lux-datasets/data/census.csv\")\n",
    "from lux.vis.Vis import Vis\n",
    "\n",
    "vis = Vis([lux.Clause(\"income\"),lux.Clause(\"age\",bin_size=20)],df)\n",
    "vis"
   ]
  },
  {
   "cell_type": "code",
   "execution_count": null,
   "metadata": {},
   "outputs": [],
   "source": [
    "df.intent =[\"income\"]"
   ]
  },
  {
   "cell_type": "code",
   "execution_count": null,
   "metadata": {},
   "outputs": [],
   "source": [
    "df"
   ]
  },
  {
   "cell_type": "code",
   "execution_count": null,
   "metadata": {},
   "outputs": [],
   "source": [
    "df = pd.read_csv(\"../lux-datasets/data/census.csv\")\n",
    "\n",
    "from lux.vis.Vis import Vis\n",
    "\n",
    "vis = Vis([lux.Clause(\"income\"),lux.Clause(\"age\",bin_size=20)],df)\n",
    "assert vis.mark==\"histogram\"\n",
    "\n",
    "# vis = Vis([lux.Clause(\"income\"),lux.Clause(\"age\")],df)\n",
    "# assert vis.mark==\"bar\""
   ]
  },
  {
   "cell_type": "code",
   "execution_count": null,
   "metadata": {},
   "outputs": [],
   "source": [
    "vis = Vis([lux.Clause(\"income\"),lux.Clause(\"age\")])\n",
    "vis._mark= \"histogram\"\n",
    "vis.refresh_source(df)"
   ]
  },
  {
   "cell_type": "code",
   "execution_count": null,
   "metadata": {},
   "outputs": [],
   "source": [
    "    assert vis.mark == \"histogram\""
   ]
  },
  {
   "cell_type": "code",
   "execution_count": null,
   "metadata": {},
   "outputs": [],
   "source": [
    "vis"
   ]
  },
  {
   "cell_type": "code",
   "execution_count": null,
   "metadata": {},
   "outputs": [],
   "source": [
    "print(vis.to_Altair())"
   ]
  },
  {
   "cell_type": "code",
   "execution_count": null,
   "metadata": {},
   "outputs": [],
   "source": [
    "import altair as alt\n",
    "visData = pd.DataFrame({'index': {0: 0, 1: 1, 2: 2, 3: 3, 4: 4, 5: 5, 6: 6, 7: 7, 8: 8, 9: 9, 10: 10, 11: 11, 12: 12, 13: 13, 14: 14, 15: 15, 16: 16, 17: 17, 18: 18, 19: 19, 20: 0, 21: 1, 22: 2, 23: 3, 24: 4, 25: 5, 26: 6, 27: 7, 28: 8, 29: 9, 30: 10, 31: 11, 32: 12, 33: 13, 34: 14, 35: 15, 36: 16, 37: 17, 38: 18, 39: 19}, 'age': {0: 18.825, 1: 22.475, 2: 26.125, 3: 29.775, 4: 33.425, 5: 37.075, 6: 40.724999999999994, 7: 44.375, 8: 48.025000000000006, 9: 51.675, 10: 55.325, 11: 58.974999999999994, 12: 62.62499999999999, 13: 66.27499999999999, 14: 69.925, 15: 73.575, 16: 77.225, 17: 80.875, 18: 84.525, 19: 88.175, 20: 20.775, 21: 24.325000000000003, 22: 27.875, 23: 31.425, 24: 34.975, 25: 38.525, 26: 42.074999999999996, 27: 45.625, 28: 49.175, 29: 52.725, 30: 56.275, 31: 59.824999999999996, 32: 63.375, 33: 66.925, 34: 70.475, 35: 74.025, 36: 77.57499999999999, 37: 81.125, 38: 84.67500000000001, 39: 88.225}, 'Number of Records': {0: 2213.0, 1: 2862.0, 2: 2085.0, 3: 2622.0, 4: 2416.0, 5: 1618.0, 6: 1961.0, 7: 1687.0, 8: 1027.0, 9: 1156.0, 10: 920.0, 11: 616.0, 12: 660.0, 13: 425.0, 14: 193.0, 15: 171.0, 16: 89.0, 17: 46.0, 18: 15.0, 19: 37.0, 20: 14.0, 21: 147.0, 22: 309.0, 23: 675.0, 24: 665.0, 25: 1042.0, 26: 756.0, 27: 1040.0, 28: 632.0, 29: 723.0, 30: 467.0, 31: 298.0, 32: 201.0, 33: 93.0, 34: 58.0, 35: 27.0, 36: 22.0, 37: 3.0, 38: 2.0, 39: 7.0}, 'income': {0: ' <=50K', 1: ' <=50K', 2: ' <=50K', 3: ' <=50K', 4: ' <=50K', 5: ' <=50K', 6: ' <=50K', 7: ' <=50K', 8: ' <=50K', 9: ' <=50K', 10: ' <=50K', 11: ' <=50K', 12: ' <=50K', 13: ' <=50K', 14: ' <=50K', 15: ' <=50K', 16: ' <=50K', 17: ' <=50K', 18: ' <=50K', 19: ' <=50K', 20: ' >50K', 21: ' >50K', 22: ' >50K', 23: ' >50K', 24: ' >50K', 25: ' >50K', 26: ' >50K', 27: ' >50K', 28: ' >50K', 29: ' >50K', 30: ' >50K', 31: ' >50K', 32: ' >50K', 33: ' >50K', 34: ' >50K', 35: ' >50K', 36: ' >50K', 37: ' >50K', 38: ' >50K', 39: ' >50K'}})\n",
    "\n",
    "chart = alt.Chart(visData).mark_bar(size=11.40821917808219).encode(\n",
    "    alt.X('age', title='age (binned)',bin=alt.Bin(binned=True), type='quantitative', axis=alt.Axis(labelOverlap=True), scale=alt.Scale(domain=(17, 90))),\n",
    "    alt.Y(\"Number of Records\", type=\"quantitative\")\n",
    ")\n",
    "chart = chart.encode(color=alt.Color('income',type='nominal'))\n",
    "chart = chart.configure_mark(opacity=0.5)\n",
    "chart = chart.configure_title(fontWeight=500,fontSize=13,font='Helvetica Neue')\n",
    "chart = chart.configure_axis(titleFontWeight=500,titleFontSize=11,titleFont='Helvetica Neue',\n",
    "\t\t\tlabelFontWeight=400,labelFontSize=8,labelFont='Helvetica Neue',labelColor='#505050')\n",
    "chart = chart.configure_legend(titleFontWeight=500,titleFontSize=10,titleFont='Helvetica Neue',\n",
    "\t\t\tlabelFontWeight=400,labelFontSize=8,labelFont='Helvetica Neue')\n",
    "chart = chart.properties(width=160,height=150)\n",
    "\n",
    "chart"
   ]
  },
  {
   "cell_type": "code",
   "execution_count": null,
   "metadata": {},
   "outputs": [],
   "source": [
    "import altair as alt\n",
    "visData = pd.DataFrame({'age': {0: 20.775, 1: 24.325000000000003, 2: 27.875, 3: 31.425, 4: 34.975, 5: 38.525, 6: 42.074999999999996, 7: 45.625, 8: 49.175, 9: 52.725, 10: 56.275, 11: 59.824999999999996, 12: 63.375, 13: 66.925, 14: 70.475, 15: 74.025, 16: 77.57499999999999, 17: 81.125, 18: 84.67500000000001, 19: 88.225}, 'Number of Records': {0: 14.0, 1: 147.0, 2: 309.0, 3: 675.0, 4: 665.0, 5: 1042.0, 6: 756.0, 7: 1040.0, 8: 632.0, 9: 723.0, 10: 467.0, 11: 298.0, 12: 201.0, 13: 93.0, 14: 58.0, 15: 27.0, 16: 22.0, 17: 3.0, 18: 2.0, 19: 7.0}, 'income': {0: ' >50K', 1: ' >50K', 2: ' >50K', 3: ' >50K', 4: ' >50K', 5: ' >50K', 6: ' >50K', 7: ' >50K', 8: ' >50K', 9: ' >50K', 10: ' >50K', 11: ' >50K', 12: ' >50K', 13: ' >50K', 14: ' >50K', 15: ' >50K', 16: ' >50K', 17: ' >50K', 18: ' >50K', 19: ' >50K'}})\n",
    "\n",
    "chart = alt.Chart(visData).mark_bar(size=11.40821917808219).encode(\n",
    "    alt.X('age', title='age (binned)',bin=alt.Bin(binned=True), type='quantitative', axis=alt.Axis(labelOverlap=True), scale=alt.Scale(domain=(17, 90))),\n",
    "    alt.Y(\"Number of Records\", type=\"quantitative\")\n",
    ")\n",
    "chart = chart.encode(color=alt.Color('income',type='nominal'))\n",
    "chart = chart.configure_mark(opacity=0.5)\n",
    "chart = chart.configure_title(fontWeight=500,fontSize=13,font='Helvetica Neue')\n",
    "chart = chart.configure_axis(titleFontWeight=500,titleFontSize=11,titleFont='Helvetica Neue',\n",
    "\t\t\tlabelFontWeight=400,labelFontSize=8,labelFont='Helvetica Neue',labelColor='#505050')\n",
    "chart = chart.configure_legend(titleFontWeight=500,titleFontSize=10,titleFont='Helvetica Neue',\n",
    "\t\t\tlabelFontWeight=400,labelFontSize=8,labelFont='Helvetica Neue')\n",
    "chart = chart.properties(width=160,height=150)\n",
    "\n",
    "chart"
   ]
  },
  {
   "cell_type": "code",
   "execution_count": null,
   "metadata": {},
   "outputs": [],
   "source": [
    "rdf = vis.data.to_pandas()\n",
    "rdf[rdf[\"age\"]<20].to_pandas()"
   ]
  },
  {
   "cell_type": "code",
   "execution_count": null,
   "metadata": {},
   "outputs": [],
   "source": [
    "bin_attribute = list(filter(lambda x: x.bin_size != 0, vis._inferred_intent))[0]"
   ]
  },
  {
   "cell_type": "code",
   "execution_count": null,
   "metadata": {},
   "outputs": [],
   "source": [
    "import numpy as np"
   ]
  },
  {
   "cell_type": "code",
   "execution_count": null,
   "metadata": {},
   "outputs": [],
   "source": [
    "color_attr = \"income\""
   ]
  },
  {
   "cell_type": "code",
   "execution_count": null,
   "metadata": {},
   "outputs": [],
   "source": [
    "result = []\n",
    "for val in df.unique_values[color_attr]: \n",
    "    subset = df[df[color_attr]==val]\n",
    "    subset_histo = get_bin_data(subset,bin_attribute)\n",
    "    subset_histo[color_attr]=val\n",
    "    result.append(subset_histo)\n",
    "result_df = pd.concat(result)"
   ]
  },
  {
   "cell_type": "code",
   "execution_count": null,
   "metadata": {},
   "outputs": [],
   "source": [
    "def get_bin_data(df,bin_attribute):\n",
    "    bin_attr = bin_attribute.attribute\n",
    "    # np.histogram breaks if array contain NaN\n",
    "    series = vis.data[bin_attr].dropna()\n",
    "    counts, bin_edges = np.histogram(series, bins=bin_attribute.bin_size)\n",
    "    # bin_edges of size N+1, so need to compute bin_center as the bin location\n",
    "    bin_center = np.mean(np.vstack([bin_edges[0:-1], bin_edges[1:]]), axis=0)\n",
    "    binned_result = np.array([bin_center, counts]).T\n",
    "    return pd.DataFrame(binned_result, columns=[bin_attr, \"Number of Records\"])\n"
   ]
  },
  {
   "cell_type": "code",
   "execution_count": null,
   "metadata": {},
   "outputs": [],
   "source": [
    "import altair as alt\n",
    "visData = pd.DataFrame({'age': {0: 17.73, 1: 19.19, 2: 20.65, 3: 22.11, 4: 23.57, 5: 25.03, 6: 26.49, 7: 27.95, 8: 29.41, 9: 30.87, 10: 32.33, 11: 33.79, 12: 35.25, 13: 36.71, 14: 38.17, 15: 39.629999999999995, 16: 41.09, 17: 42.55, 18: 44.01, 19: 45.47, 20: 46.93, 21: 48.39, 22: 49.849999999999994, 23: 51.31, 24: 52.769999999999996, 25: 54.230000000000004, 26: 55.69, 27: 57.15, 28: 58.61, 29: 60.06999999999999, 30: 61.53, 31: 62.989999999999995, 32: 64.45, 33: 65.91, 34: 67.37, 35: 68.83, 36: 70.28999999999999, 37: 71.75, 38: 73.21, 39: 74.67, 40: 76.13, 41: 77.59, 42: 79.05, 43: 80.50999999999999, 44: 81.97, 45: 83.43, 46: 84.89, 47: 86.35, 48: 87.81, 49: 89.27}, 'Number of Records': {0: 867.0, 1: 658.0, 2: 1365.0, 3: 704.0, 4: 1535.0, 5: 783.0, 6: 1482.0, 7: 810.0, 8: 1544.0, 9: 831.0, 10: 1563.0, 11: 821.0, 12: 807.0, 13: 1628.0, 14: 760.0, 15: 1508.0, 16: 738.0, 17: 1429.0, 18: 672.0, 19: 1350.0, 20: 646.0, 21: 1029.0, 22: 558.0, 23: 983.0, 24: 418.0, 25: 382.0, 26: 726.0, 27: 328.0, 28: 655.0, 29: 288.0, 30: 501.0, 31: 215.0, 32: 348.0, 33: 143.0, 34: 255.0, 35: 99.0, 36: 144.0, 37: 62.0, 38: 60.0, 39: 84.0, 40: 45.0, 41: 47.0, 42: 19.0, 43: 37.0, 44: 12.0, 45: 13.0, 46: 3.0, 47: 1.0, 48: 3.0, 49: 41.0}})\n",
    "\n",
    "chart = alt.Chart(visData).mark_bar(size=11.759999999999998).encode(\n",
    "    alt.X('age', title='age (binned)',bin=alt.Bin(binned=True), type='quantitative', axis=alt.Axis(labelOverlap=True), scale=alt.Scale(domain=(17, 90))),\n",
    "    alt.Y(\"Number of Records\", type=\"quantitative\")\n",
    ")\n",
    "chart = chart.encode(color=alt.Color('income',type='nominal'))\n",
    "\n",
    "chart = chart.configure_title(fontWeight=500,fontSize=13,font='Helvetica Neue')\n",
    "chart = chart.configure_axis(titleFontWeight=500,titleFontSize=11,titleFont='Helvetica Neue',\n",
    "\t\t\tlabelFontWeight=400,labelFontSize=8,labelFont='Helvetica Neue',labelColor='#505050')\n",
    "chart = chart.configure_legend(titleFontWeight=500,titleFontSize=10,titleFont='Helvetica Neue',\n",
    "\t\t\tlabelFontWeight=400,labelFontSize=8,labelFont='Helvetica Neue')\n",
    "chart = chart.properties(width=160,height=150)\n",
    "\n",
    "chart"
   ]
  },
  {
   "cell_type": "code",
   "execution_count": null,
   "metadata": {},
   "outputs": [],
   "source": [
    "visData"
   ]
  },
  {
   "cell_type": "code",
   "execution_count": null,
   "metadata": {},
   "outputs": [],
   "source": [
    "vis.intent"
   ]
  },
  {
   "cell_type": "code",
   "execution_count": null,
   "metadata": {},
   "outputs": [],
   "source": [
    "vis._inferred_intent"
   ]
  }
 ],
 "metadata": {
  "kernelspec": {
   "display_name": "Python 3",
   "language": "python",
   "name": "python3"
  },
  "language_info": {
   "codemirror_mode": {
    "name": "ipython",
    "version": 3
   },
   "file_extension": ".py",
   "mimetype": "text/x-python",
   "name": "python",
   "nbconvert_exporter": "python",
   "pygments_lexer": "ipython3",
   "version": "3.7.7"
  }
 },
 "nbformat": 4,
 "nbformat_minor": 4
}
