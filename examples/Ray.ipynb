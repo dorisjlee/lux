{
 "cells": [
  {
   "cell_type": "code",
   "execution_count": 1,
   "metadata": {},
   "outputs": [
    {
     "name": "stdout",
     "output_type": "stream",
     "text": [
      "/Users/dorislee/Desktop/Research/lux/dorisjlee_fork\n"
     ]
    }
   ],
   "source": [
    "cd .."
   ]
  },
  {
   "cell_type": "code",
   "execution_count": 2,
   "metadata": {},
   "outputs": [],
   "source": [
    "import lux\n",
    "import pandas as pd"
   ]
  },
  {
   "cell_type": "code",
   "execution_count": 3,
   "metadata": {},
   "outputs": [
    {
     "data": {
      "text/plain": [
       "'/Users/dorislee/Desktop/Research/lux/dorisjlee_fork/lux/__init__.py'"
      ]
     },
     "execution_count": 3,
     "metadata": {},
     "output_type": "execute_result"
    }
   ],
   "source": [
    "lux.__file__"
   ]
  },
  {
   "cell_type": "code",
   "execution_count": 4,
   "metadata": {},
   "outputs": [],
   "source": [
    "df = pd.read_csv(\"../lux-datasets/data/car.csv\")"
   ]
  },
  {
   "cell_type": "code",
   "execution_count": 5,
   "metadata": {},
   "outputs": [
    {
     "name": "stderr",
     "output_type": "stream",
     "text": [
      "2020-11-05 20:13:40,681\tINFO resource_spec.py:212 -- Starting Ray with 10.16 GiB memory available for workers and up to 5.08 GiB for objects. You can adjust these settings with ray.init(memory=<bytes>, object_store_memory=<bytes>).\n",
      "2020-11-05 20:13:40,905\tWARNING services.py:923 -- Redis failed to start, retrying now.\n",
      "2020-11-05 20:13:41,147\tINFO services.py:1165 -- View the Ray dashboard at \u001b[1m\u001b[32mlocalhost:8265\u001b[39m\u001b[22m\n"
     ]
    },
    {
     "data": {
      "text/plain": [
       "{'node_ip_address': '192.168.8.110',\n",
       " 'raylet_ip_address': '192.168.8.110',\n",
       " 'redis_address': '192.168.8.110:6379',\n",
       " 'object_store_address': '/tmp/ray/session_2020-11-05_20-13-40_673634_4161/sockets/plasma_store',\n",
       " 'raylet_socket_name': '/tmp/ray/session_2020-11-05_20-13-40_673634_4161/sockets/raylet',\n",
       " 'webui_url': 'localhost:8265',\n",
       " 'session_dir': '/tmp/ray/session_2020-11-05_20-13-40_673634_4161'}"
      ]
     },
     "execution_count": 5,
     "metadata": {},
     "output_type": "execute_result"
    }
   ],
   "source": [
    "import ray\n",
    "ray.init(num_cpus=1)"
   ]
  },
  {
   "cell_type": "code",
   "execution_count": 6,
   "metadata": {
    "scrolled": true
   },
   "outputs": [
    {
     "name": "stderr",
     "output_type": "stream",
     "text": [
      "/Users/dorislee/Desktop/Research/lux/dorisjlee_fork/lux/executor/PandasExecutor.py:390: UserWarning: \n",
      "Lux detects that the attribute 'Year' may be temporal.\n",
      "In order to display visualizations for this attribute accurately, temporal attributes should be converted to Pandas Datetime objects.\n",
      "\n",
      "Please consider converting this attribute using the pd.to_datetime function and providing a 'format' parameter to specify datetime format of the attribute.\n",
      "For example, you can convert the 'month' attribute in a dataset to Datetime type via the following command:\n",
      "\n",
      "\t df['month'] = pd.to_datetime(df['month'], format='%m')\n",
      "\n",
      "See more at: https://pandas.pydata.org/pandas-docs/stable/reference/api/pandas.to_datetime.html\n",
      "\n",
      "  self.compute_data_type(ldf)\n"
     ]
    },
    {
     "name": "stdout",
     "output_type": "stream",
     "text": [
      "Actor(Vis, 45b95b1c0100)\n",
      "Actor(Vis, ef0a6c220100)\n",
      "Actor(Vis, f66d17ba0100)\n",
      "Actor(Vis, 44ee453c0100)\n",
      "Actor(Vis, 7e0a4dfc0100)\n",
      "Actor(Vis, 6f53dca10100)\n",
      "Actor(Vis, 6170691e0100)\n",
      "Actor(Vis, cd8f56890100)\n",
      "Actor(Vis, 55c3b2b60100)\n",
      "Actor(Vis, 9fc77bf30100)\n",
      "Actor(Vis, 9d28cb170100)\n",
      "Actor(Vis, 15c675b20100)\n",
      "Actor(Vis, 8603ac100100)\n",
      "Actor(Vis, 276fa5c90100)\n",
      "Actor(Vis, 2ca539020100)\n",
      "Actor(Vis, 876814b80100)\n",
      "Actor(Vis, 7dec85640100)\n",
      "Actor(Vis, 0bead1160100)\n",
      "Actor(Vis, b944ee5b0100)\n",
      "Actor(Vis, 2a124e200100)\n",
      "Actor(Vis, 8e3e47920100)\n",
      "Actor(Vis, 169cae520100)\n",
      "Actor(Vis, a1651cc50100)\n",
      "Actor(Vis, a000cd7e0100)\n",
      "Actor(Vis, 70b16fe80100)\n",
      "Actor(Vis, c0ec45020100)\n",
      "Actor(Vis, c7f560d40100)\n",
      "Actor(Vis, fd0a71290100)\n",
      "Actor(Vis, 71e6fe670100)\n",
      "Actor(Vis, 7139da310100)\n",
      "Actor(Vis, 4c7ae8aa0100)\n",
      "Actor(Vis, 24bd907e0100)\n",
      "Actor(Vis, 787a210e0100)\n",
      "Actor(Vis, c2dcf2f80100)\n",
      "recinfolist []\n",
      "rec_lst []\n",
      "after get rec_lst []\n"
     ]
    },
    {
     "name": "stderr",
     "output_type": "stream",
     "text": [
      "/Users/dorislee/.virtualenvs/lux/lib/python3.7/site-packages/IPython/core/formatters.py:345: UserWarning: \n",
      "Lux defaults to Pandas when there are no valid actions defined.\n",
      "  return method()\n"
     ]
    },
    {
     "data": {
      "text/html": [
       "<div>\n",
       "<style scoped>\n",
       "    .dataframe tbody tr th:only-of-type {\n",
       "        vertical-align: middle;\n",
       "    }\n",
       "\n",
       "    .dataframe tbody tr th {\n",
       "        vertical-align: top;\n",
       "    }\n",
       "\n",
       "    .dataframe thead th {\n",
       "        text-align: right;\n",
       "    }\n",
       "</style>\n",
       "<table border=\"1\" class=\"dataframe\">\n",
       "  <thead>\n",
       "    <tr style=\"text-align: right;\">\n",
       "      <th></th>\n",
       "      <th>Name</th>\n",
       "      <th>MilesPerGal</th>\n",
       "      <th>Cylinders</th>\n",
       "      <th>Displacement</th>\n",
       "      <th>Horsepower</th>\n",
       "      <th>Weight</th>\n",
       "      <th>Acceleration</th>\n",
       "      <th>Year</th>\n",
       "      <th>Origin</th>\n",
       "    </tr>\n",
       "  </thead>\n",
       "  <tbody>\n",
       "    <tr>\n",
       "      <th>0</th>\n",
       "      <td>chevrolet chevelle malibu</td>\n",
       "      <td>18.0</td>\n",
       "      <td>8</td>\n",
       "      <td>307.0</td>\n",
       "      <td>130</td>\n",
       "      <td>3504</td>\n",
       "      <td>12.0</td>\n",
       "      <td>1970</td>\n",
       "      <td>USA</td>\n",
       "    </tr>\n",
       "    <tr>\n",
       "      <th>1</th>\n",
       "      <td>buick skylark 320</td>\n",
       "      <td>15.0</td>\n",
       "      <td>8</td>\n",
       "      <td>350.0</td>\n",
       "      <td>165</td>\n",
       "      <td>3693</td>\n",
       "      <td>11.5</td>\n",
       "      <td>1970</td>\n",
       "      <td>USA</td>\n",
       "    </tr>\n",
       "    <tr>\n",
       "      <th>2</th>\n",
       "      <td>plymouth satellite</td>\n",
       "      <td>18.0</td>\n",
       "      <td>8</td>\n",
       "      <td>318.0</td>\n",
       "      <td>150</td>\n",
       "      <td>3436</td>\n",
       "      <td>11.0</td>\n",
       "      <td>1970</td>\n",
       "      <td>USA</td>\n",
       "    </tr>\n",
       "    <tr>\n",
       "      <th>3</th>\n",
       "      <td>amc rebel sst</td>\n",
       "      <td>16.0</td>\n",
       "      <td>8</td>\n",
       "      <td>304.0</td>\n",
       "      <td>150</td>\n",
       "      <td>3433</td>\n",
       "      <td>12.0</td>\n",
       "      <td>1970</td>\n",
       "      <td>USA</td>\n",
       "    </tr>\n",
       "    <tr>\n",
       "      <th>4</th>\n",
       "      <td>ford torino</td>\n",
       "      <td>17.0</td>\n",
       "      <td>8</td>\n",
       "      <td>302.0</td>\n",
       "      <td>140</td>\n",
       "      <td>3449</td>\n",
       "      <td>10.5</td>\n",
       "      <td>1970</td>\n",
       "      <td>USA</td>\n",
       "    </tr>\n",
       "    <tr>\n",
       "      <th>...</th>\n",
       "      <td>...</td>\n",
       "      <td>...</td>\n",
       "      <td>...</td>\n",
       "      <td>...</td>\n",
       "      <td>...</td>\n",
       "      <td>...</td>\n",
       "      <td>...</td>\n",
       "      <td>...</td>\n",
       "      <td>...</td>\n",
       "    </tr>\n",
       "    <tr>\n",
       "      <th>387</th>\n",
       "      <td>ford mustang gl</td>\n",
       "      <td>27.0</td>\n",
       "      <td>4</td>\n",
       "      <td>140.0</td>\n",
       "      <td>86</td>\n",
       "      <td>2790</td>\n",
       "      <td>15.6</td>\n",
       "      <td>1982</td>\n",
       "      <td>USA</td>\n",
       "    </tr>\n",
       "    <tr>\n",
       "      <th>388</th>\n",
       "      <td>vw pickup</td>\n",
       "      <td>44.0</td>\n",
       "      <td>4</td>\n",
       "      <td>97.0</td>\n",
       "      <td>52</td>\n",
       "      <td>2130</td>\n",
       "      <td>24.6</td>\n",
       "      <td>1982</td>\n",
       "      <td>Europe</td>\n",
       "    </tr>\n",
       "    <tr>\n",
       "      <th>389</th>\n",
       "      <td>dodge rampage</td>\n",
       "      <td>32.0</td>\n",
       "      <td>4</td>\n",
       "      <td>135.0</td>\n",
       "      <td>84</td>\n",
       "      <td>2295</td>\n",
       "      <td>11.6</td>\n",
       "      <td>1982</td>\n",
       "      <td>USA</td>\n",
       "    </tr>\n",
       "    <tr>\n",
       "      <th>390</th>\n",
       "      <td>ford ranger</td>\n",
       "      <td>28.0</td>\n",
       "      <td>4</td>\n",
       "      <td>120.0</td>\n",
       "      <td>79</td>\n",
       "      <td>2625</td>\n",
       "      <td>18.6</td>\n",
       "      <td>1982</td>\n",
       "      <td>USA</td>\n",
       "    </tr>\n",
       "    <tr>\n",
       "      <th>391</th>\n",
       "      <td>chevy s-10</td>\n",
       "      <td>31.0</td>\n",
       "      <td>4</td>\n",
       "      <td>119.0</td>\n",
       "      <td>82</td>\n",
       "      <td>2720</td>\n",
       "      <td>19.4</td>\n",
       "      <td>1982</td>\n",
       "      <td>USA</td>\n",
       "    </tr>\n",
       "  </tbody>\n",
       "</table>\n",
       "<p>392 rows × 9 columns</p>\n",
       "</div>"
      ],
      "text/plain": [
       "                          Name  MilesPerGal  Cylinders  Displacement  \\\n",
       "0    chevrolet chevelle malibu         18.0          8         307.0   \n",
       "1            buick skylark 320         15.0          8         350.0   \n",
       "2           plymouth satellite         18.0          8         318.0   \n",
       "3                amc rebel sst         16.0          8         304.0   \n",
       "4                  ford torino         17.0          8         302.0   \n",
       "..                         ...          ...        ...           ...   \n",
       "387            ford mustang gl         27.0          4         140.0   \n",
       "388                  vw pickup         44.0          4          97.0   \n",
       "389              dodge rampage         32.0          4         135.0   \n",
       "390                ford ranger         28.0          4         120.0   \n",
       "391                 chevy s-10         31.0          4         119.0   \n",
       "\n",
       "     Horsepower  Weight  Acceleration  Year  Origin  \n",
       "0           130    3504          12.0  1970     USA  \n",
       "1           165    3693          11.5  1970     USA  \n",
       "2           150    3436          11.0  1970     USA  \n",
       "3           150    3433          12.0  1970     USA  \n",
       "4           140    3449          10.5  1970     USA  \n",
       "..          ...     ...           ...   ...     ...  \n",
       "387          86    2790          15.6  1982     USA  \n",
       "388          52    2130          24.6  1982  Europe  \n",
       "389          84    2295          11.6  1982     USA  \n",
       "390          79    2625          18.6  1982     USA  \n",
       "391          82    2720          19.4  1982     USA  \n",
       "\n",
       "[392 rows x 9 columns]"
      ]
     },
     "metadata": {},
     "output_type": "display_data"
    },
    {
     "data": {
      "text/plain": []
     },
     "execution_count": 6,
     "metadata": {},
     "output_type": "execute_result"
    }
   ],
   "source": [
    "df"
   ]
  },
  {
   "cell_type": "code",
   "execution_count": null,
   "metadata": {},
   "outputs": [],
   "source": []
  }
 ],
 "metadata": {
  "kernelspec": {
   "display_name": "Python 3",
   "language": "python",
   "name": "python3"
  },
  "language_info": {
   "codemirror_mode": {
    "name": "ipython",
    "version": 3
   },
   "file_extension": ".py",
   "mimetype": "text/x-python",
   "name": "python",
   "nbconvert_exporter": "python",
   "pygments_lexer": "ipython3",
   "version": "3.7.7"
  }
 },
 "nbformat": 4,
 "nbformat_minor": 4
}
